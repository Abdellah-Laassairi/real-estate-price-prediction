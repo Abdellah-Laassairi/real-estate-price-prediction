{
 "cells": [
  {
   "cell_type": "markdown",
   "metadata": {},
   "source": [
    "## Downloading geodata\n",
    "First we set up an account in google cloud console, and activated places api"
   ]
  },
  {
   "cell_type": "code",
   "execution_count": 16,
   "metadata": {},
   "outputs": [],
   "source": [
    "import os\n",
    "import pandas as pd \n",
    "import googlemaps\n",
    "from tqdm import tqdm\n",
    "from geopy.distance import geodesic\n",
    "\n",
    "API_KEY=open(\"api\").read()"
   ]
  },
  {
   "cell_type": "code",
   "execution_count": null,
   "metadata": {},
   "outputs": [],
   "source": [
    "X_train_0 = pd.read_csv(\"X_train_J01Z4CN.csv\")\n"
   ]
  },
  {
   "cell_type": "code",
   "execution_count": 18,
   "metadata": {},
   "outputs": [],
   "source": [
    "import time\n",
    "import googlemaps # pip install googlemaps\n",
    "import pandas as pd # pip install pandas\n",
    "\n",
    "map_client = googlemaps.Client(API_KEY)\n",
    "\n",
    "def get_data(id_annonce, location, distance = 5000):\n",
    "    business_list = []\n",
    "    response = map_client.places_nearby(\n",
    "        location=location,\n",
    "        radius=distance\n",
    "    )   \n",
    "\n",
    "    business_list.extend(response.get('results'))\n",
    "    next_page_token = response.get('next_page_token')\n",
    "\n",
    "    while next_page_token:\n",
    "        time.sleep(0.3)\n",
    "        try :\n",
    "            response = map_client.places_nearby(\n",
    "                location=location,\n",
    "                radius=distance,\n",
    "                page_token=next_page_token\n",
    "            )   \n",
    "            business_list.extend(response.get('results'))\n",
    "            next_page_token = response.get('next_page_token')\n",
    "        except Exception as e:\n",
    "            # print(e)\n",
    "            break\n",
    "\n",
    "    df = pd.DataFrame(business_list)\n",
    "    #df['url'] = 'https://www.google.com/maps/place/?q=place_id:' + df['place_id']\n",
    "    df['id_annonce']=id_annonce\n",
    "    return df"
   ]
  },
  {
   "cell_type": "code",
   "execution_count": 19,
   "metadata": {},
   "outputs": [
    {
     "name": "stderr",
     "output_type": "stream",
     "text": [
      "4460it [1:23:08,  1.12s/it]\n"
     ]
    }
   ],
   "source": [
    "final_results = pd.DataFrame({})\n",
    "for index, row in tqdm(X_train_0[32908:].iterrows()):\n",
    "    # if not already_requested(row['id_annonce']) :\n",
    "            results_per_row = get_data(row['id_annonce'], (row['approximate_latitude'],row['approximate_longitude']))\n",
    "            final_results=pd.concat([results_per_row, final_results], axis=0)\n",
    "            final_results.to_pickle(\"X_train_results_32908_end.pkl\")\n"
   ]
  }
 ],
 "metadata": {
  "kernelspec": {
   "display_name": "Python 3.11.0 ('data-challenge')",
   "language": "python",
   "name": "python3"
  },
  "language_info": {
   "codemirror_mode": {
    "name": "ipython",
    "version": 3
   },
   "file_extension": ".py",
   "mimetype": "text/x-python",
   "name": "python",
   "nbconvert_exporter": "python",
   "pygments_lexer": "ipython3",
   "version": "3.8.15"
  },
  "orig_nbformat": 4,
  "vscode": {
   "interpreter": {
    "hash": "7cad879572fc86dfe65b3e43b153c561e79ca25c5ffe8434d36e9a73cfcff219"
   }
  }
 },
 "nbformat": 4,
 "nbformat_minor": 2
}
