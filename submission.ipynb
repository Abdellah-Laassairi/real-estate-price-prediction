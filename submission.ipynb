{
 "cells": [
  {
   "cell_type": "code",
   "execution_count": 11,
   "metadata": {},
   "outputs": [],
   "source": [
    "from tools.preprocess import *\n",
    "from sklearn.neighbors import KNeighborsRegressor\n",
    "from sklearn.ensemble import ExtraTreesRegressor, RandomForestRegressor, StackingRegressor\n",
    "from catboost import CatBoostRegressor\n",
    "from xgboost import XGBRegressor\n",
    "from lightgbm import LGBMRegressor\n",
    "from sklearn.model_selection import KFold, cross_val_score\n",
    "from dataprep.eda import plot, plot_missing, plot_correlation, create_report\n",
    "\n",
    "\n",
    "pd.options.display.max_rows=140\n",
    "pd.options.display.max_columns=140"
   ]
  },
  {
   "cell_type": "code",
   "execution_count": 12,
   "metadata": {},
   "outputs": [],
   "source": [
    "preprocessing_parameters = {\n",
    "    'drop_columns':[\"exposition\",\"energy_performance_category\",\"ghg_category\"],\n",
    "    'frequency_encoding':['city'],\n",
    "    'quantile_encoding':[],\n",
    "    'knn_imputation':[\"size\", \"land_size\",\"energy_performance_value\",\"ghg_value\", \"nb_rooms\",\"nb_bathrooms\", \"nb_bedrooms\"],\n",
    "    'feature_engineering':False,\n",
    "    'add_geo':True,\n",
    "    'geodata':[\"index\",\"num_train_station\",\"num_gas_station\", \"num_night_club\", \"num_transit_station\"],\n",
    "    'feature_transformation':False,\n",
    "    'hot_encoding':True,\n",
    "    'standard_scaling':False,\n",
    "    'robust_scaling':True,\n",
    "    'rower_scaling':False,\n",
    "    'target_transformation':True,\n",
    "}"
   ]
  },
  {
   "cell_type": "code",
   "execution_count": 13,
   "metadata": {},
   "outputs": [],
   "source": [
    "X_train_0, Y_train_0, X_test_0, X_test_ids = load_data('data/')"
   ]
  },
  {
   "cell_type": "code",
   "execution_count": 14,
   "metadata": {},
   "outputs": [],
   "source": [
    "X_train_1,Y_train_1, X_test_1 = preprocess(X_train_0, Y_train_0, X_test_0,preprocessing_parameters)"
   ]
  },
  {
   "cell_type": "code",
   "execution_count": 16,
   "metadata": {
    "collapsed": true
   },
   "outputs": [
    {
     "data": {
      "text/plain": [
       "property_type_terrain             -0.292496\n",
       "property_type_terrain à bâtir     -0.135557\n",
       "property_type_parking             -0.105659\n",
       "num_gas_station                   -0.069435\n",
       "property_type_viager              -0.063466\n",
       "property_type_divers              -0.060409\n",
       "ghg_value                         -0.039270\n",
       "energy_performance_value          -0.037223\n",
       "property_type_chambre             -0.011059\n",
       "upper_floors                      -0.004130\n",
       "property_type_ferme               -0.001397\n",
       "property_type_maison              -0.001264\n",
       "property_type_chalet               0.002726\n",
       "property_type_péniche              0.003347\n",
       "property_type_hôtel                0.004316\n",
       "num_transit_station                0.005032\n",
       "property_type_gîte                 0.006035\n",
       "property_type_atelier              0.015708\n",
       "property_type_moulin               0.015860\n",
       "property_type_hôtel particulier    0.016022\n",
       "property_type_loft                 0.019508\n",
       "num_train_station                  0.021388\n",
       "property_type_duplex               0.021546\n",
       "land_size                          0.022672\n",
       "property_type_manoir               0.023224\n",
       "size                               0.024996\n",
       "approximate_latitude               0.034518\n",
       "property_type_château              0.036936\n",
       "last_floor                         0.049164\n",
       "has_a_garage                       0.060769\n",
       "has_air_conditioning               0.069276\n",
       "num_night_club                     0.074100\n",
       "nb_boxes                           0.080740\n",
       "approximate_longitude              0.097298\n",
       "has_a_balcony                      0.097638\n",
       "property_type_villa                0.097648\n",
       "property_type_propriété            0.100034\n",
       "floor                              0.122570\n",
       "has_a_cellar                       0.127679\n",
       "property_type_appartement          0.133012\n",
       "nb_parking_places                  0.133528\n",
       "postal_code                        0.146281\n",
       "city                               0.200943\n",
       "nb_terraces                        0.213083\n",
       "nb_photos                          0.233767\n",
       "nb_bathrooms                       0.307521\n",
       "nb_bedrooms                        0.327282\n",
       "nb_rooms                           0.339595\n",
       "dtype: float64"
      ]
     },
     "execution_count": 16,
     "metadata": {},
     "output_type": "execute_result"
    }
   ],
   "source": [
    "X_train_1.corrwith(Y_train_1).sort_values()"
   ]
  },
  {
   "cell_type": "code",
   "execution_count": 7,
   "metadata": {},
   "outputs": [
    {
     "data": {
      "text/plain": [
       "'\\n0.2868198047384043 standard_scaling\\n'"
      ]
     },
     "execution_count": 7,
     "metadata": {},
     "output_type": "execute_result"
    }
   ],
   "source": [
    "#baseline model\n",
    "baseline_model=XGBRegressor()\n",
    "baseline_model.fit(X_train_1, Y_train_1)\n",
    "kf = KFold(n_splits=10)\n",
    "baseline_result = cross_val_score(baseline_model, X_train_1, Y_train_1, scoring=\"neg_mean_absolute_error\", cv=kf)\n",
    "mean_baseline_result = -np.mean(baseline_result)\n",
    "mean_baseline_result\n",
    "\"\"\"\n",
    "0.2868198047384043 standard_scaling\n",
    "\"\"\""
   ]
  },
  {
   "cell_type": "code",
   "execution_count": 11,
   "metadata": {},
   "outputs": [
    {
     "name": "stdout",
     "output_type": "stream",
     "text": [
      "Finished submitting\n"
     ]
    }
   ],
   "source": [
    "baseline_predictions= np.exp(baseline_model.predict(X_test_1))\n",
    "\n",
    "final_predictions=pd.Series(baseline_predictions,name=\"price\")\n",
    "final_predictions.head()\n",
    "final_submission = pd.concat([X_test_ids, final_predictions], axis=1)\n",
    "final_submission.to_csv(\"data/final_submission_57.csv\", index=False, header=True)\n",
    "print(\"Finished submitting\")"
   ]
  },
  {
   "cell_type": "code",
   "execution_count": 19,
   "metadata": {},
   "outputs": [],
   "source": [
    "xgb_params={'tree_method': 'auto',\n",
    " 'learning_rate': 0.22502761577232197,\n",
    " 'max_depth': 7,\n",
    " 'min_child_weight': 2.8420515790248526,\n",
    " 'subsample': 0.975,\n",
    " 'colsample_bytree': 0.75,\n",
    " 'colsample_bylevel': 0.925,\n",
    " 'gamma': 0.001531824642793309,\n",
    " 'reg_lambda': 0.010527402680638263,\n",
    " 'reg_alpha': 1.2647545029756599e-08}\n",
    "\n",
    "etr_params={\n",
    "}\n",
    "\n",
    "cat_params={\n",
    "    'learning_rate': 0.17447854966066342,\n",
    "    'objective': 'RMSE',\n",
    "    'colsample_bylevel': 0.09999300796304286,\n",
    "    'depth': 12,\n",
    "    'boosting_type': 'Plain',\n",
    "    'bootstrap_type': 'Bernoulli',\n",
    "    'subsample': 0.9709524520446949\n",
    "}"
   ]
  },
  {
   "cell_type": "code",
   "execution_count": 18,
   "metadata": {},
   "outputs": [
    {
     "name": "stdout",
     "output_type": "stream",
     "text": [
      "Finished Training xgboost.\n",
      "Finished Training etr.\n",
      "Finished Training cat.\n"
     ]
    }
   ],
   "source": [
    "tuned_models = {\n",
    "    \"xgboost\":XGBRegressor(**xgb_params),\n",
    "    \"etr\":ExtraTreesRegressor(),\n",
    "    \"cat\":CatBoostRegressor(**cat_params, verbose=False),\n",
    "}\n",
    "\n",
    "for model_name, model in tuned_models.items():\n",
    "    model.fit(X_train_1, Y_train_1)\n",
    "    print(f\"Finished Training {model_name}.\")\n"
   ]
  },
  {
   "cell_type": "code",
   "execution_count": 20,
   "metadata": {},
   "outputs": [
    {
     "name": "stdout",
     "output_type": "stream",
     "text": [
      "Finished submitting\n"
     ]
    }
   ],
   "source": [
    "final_predictions_sum= (\n",
    "    6/20*np.exp(tuned_models[\"xgboost\"].predict(X_test_1)) +\n",
    "    4/20*np.exp(tuned_models[\"etr\"].predict(X_test_1)) + \n",
    "    10/20*np.exp(tuned_models[\"cat\"].predict(X_test_1)) \n",
    "    )\n",
    "\n",
    "final_predictions=pd.Series(final_predictions_sum,name=\"price\")\n",
    "final_predictions.head()\n",
    "final_submission = pd.concat([X_test_ids, final_predictions], axis=1)\n",
    "final_submission.to_csv(\"data/final_submission_80.csv\", index=False, header=True)\n",
    "print(\"Finished submitting\")"
   ]
  }
 ],
 "metadata": {
  "kernelspec": {
   "display_name": "Python 3 (ipykernel)",
   "language": "python",
   "name": "python3"
  },
  "language_info": {
   "codemirror_mode": {
    "name": "ipython",
    "version": 3
   },
   "file_extension": ".py",
   "mimetype": "text/x-python",
   "name": "python",
   "nbconvert_exporter": "python",
   "pygments_lexer": "ipython3",
   "version": "3.8.15"
  },
  "vscode": {
   "interpreter": {
    "hash": "7cad879572fc86dfe65b3e43b153c561e79ca25c5ffe8434d36e9a73cfcff219"
   }
  }
 },
 "nbformat": 4,
 "nbformat_minor": 2
}
