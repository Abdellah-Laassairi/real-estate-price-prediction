{
 "cells": [
  {
   "cell_type": "code",
   "execution_count": 34,
   "metadata": {},
   "outputs": [],
   "source": [
    "from tools.preprocess import *\n",
    "from sklearn.neighbors import *\n",
    "from sklearn.ensemble import *\n",
    "from catboost import CatBoostRegressor\n",
    "import catboost as cat\n",
    "from xgboost import XGBRegressor, plot_importance\n",
    "import xgboost as xgb\n",
    "from lightgbm import LGBMRegressor\n",
    "from sklearn.model_selection import KFold, cross_val_score\n",
    "from tools.selector import *\n",
    "from sklearn.metrics import r2_score\n",
    "from clearml import Task\n",
    "from rich.progress import *\n",
    "from rich.console import Console\n",
    "import time\n",
    "pd.options.display.max_rows=400\n",
    "pd.options.display.max_columns=400\n",
    "\n",
    "import string \n",
    "import random\n",
    "letters = string.digits\n",
    "buzzwords = [\"khrba\",\"dar\",\"hmza\",\"mdrasa\",\"ard\"]\n",
    "morewords = [\"kbira\",\"sghira\",\"zwina\",\"khayba\",\"jdida\",\"9dima\"]\n",
    "task_name = f'{random.choice(letters)}-{random.choice(buzzwords)}-{random.choice(morewords)}'"
   ]
  },
  {
   "cell_type": "code",
   "execution_count": 35,
   "metadata": {},
   "outputs": [
    {
     "data": {
      "application/vnd.jupyter.widget-view+json": {
       "model_id": "7fb784bb53914d409964f63655d2258e",
       "version_major": 2,
       "version_minor": 0
      },
      "text/plain": [
       "Output()"
      ]
     },
     "metadata": {},
     "output_type": "display_data"
    },
    {
     "data": {
      "text/html": [
       "<pre style=\"white-space:pre;overflow-x:auto;line-height:normal;font-family:Menlo,'DejaVu Sans Mono',consolas,'Courier New',monospace\"></pre>\n"
      ],
      "text/plain": []
     },
     "metadata": {},
     "output_type": "display_data"
    },
    {
     "data": {
      "text/html": [
       "<pre style=\"white-space:pre;overflow-x:auto;line-height:normal;font-family:Menlo,'DejaVu Sans Mono',consolas,'Courier New',monospace\">\n",
       "</pre>\n"
      ],
      "text/plain": [
       "\n"
      ]
     },
     "metadata": {},
     "output_type": "display_data"
    }
   ],
   "source": [
    "import yaml\n",
    "from yaml.loader import SafeLoader\n",
    "\n",
    "with open(\"preprocess.yaml\",\"r\") as f:\n",
    "    preprocessing_parameters = yaml.load(f, Loader=SafeLoader)"
   ]
  },
  {
   "cell_type": "code",
   "execution_count": 36,
   "metadata": {},
   "outputs": [],
   "source": [
    "X_train_0, Y_train_0, X_test_0, X_test_ids, X_train_ids = load_data('data/tabular/', False)"
   ]
  },
  {
   "cell_type": "code",
   "execution_count": 37,
   "metadata": {},
   "outputs": [
    {
     "data": {
      "text/html": [
       "<pre style=\"white-space:pre;overflow-x:auto;line-height:normal;font-family:Menlo,'DejaVu Sans Mono',consolas,'Courier New',monospace\"><span style=\"color: #7fbfbf; text-decoration-color: #7fbfbf\">[20:40:25] </span><span style=\"color: #008000; text-decoration-color: #008000; font-weight: bold\">Loading hyperparameters...</span>                                                             <a href=\"file:///home/alaassairi/classif/tools/preprocess.py\" target=\"_blank\"><span style=\"color: #7f7f7f; text-decoration-color: #7f7f7f\">preprocess.py</span></a><span style=\"color: #7f7f7f; text-decoration-color: #7f7f7f\">:</span><a href=\"file:///home/alaassairi/classif/tools/preprocess.py#164\" target=\"_blank\"><span style=\"color: #7f7f7f; text-decoration-color: #7f7f7f\">164</span></a>\n",
       "</pre>\n"
      ],
      "text/plain": [
       "\u001b[2;36m[20:40:25]\u001b[0m\u001b[2;36m \u001b[0m\u001b[1;32mLoading hyperparameters\u001b[0m\u001b[1;32m...\u001b[0m                                                             \u001b]8;id=475435;file:///home/alaassairi/classif/tools/preprocess.py\u001b\\\u001b[2mpreprocess.py\u001b[0m\u001b]8;;\u001b\\\u001b[2m:\u001b[0m\u001b]8;id=666563;file:///home/alaassairi/classif/tools/preprocess.py#164\u001b\\\u001b[2m164\u001b[0m\u001b]8;;\u001b\\\n"
      ]
     },
     "metadata": {},
     "output_type": "display_data"
    },
    {
     "data": {
      "text/html": [
       "<pre style=\"white-space:pre;overflow-x:auto;line-height:normal;font-family:Menlo,'DejaVu Sans Mono',consolas,'Courier New',monospace\"><span style=\"color: #7fbfbf; text-decoration-color: #7fbfbf\">           </span>Fixing seeds                                                                            <a href=\"file:///home/alaassairi/classif/tools/preprocess.py\" target=\"_blank\"><span style=\"color: #7f7f7f; text-decoration-color: #7f7f7f\">preprocess.py</span></a><span style=\"color: #7f7f7f; text-decoration-color: #7f7f7f\">:</span><a href=\"file:///home/alaassairi/classif/tools/preprocess.py#65\" target=\"_blank\"><span style=\"color: #7f7f7f; text-decoration-color: #7f7f7f\">65</span></a>\n",
       "</pre>\n"
      ],
      "text/plain": [
       "\u001b[2;36m          \u001b[0m\u001b[2;36m \u001b[0mFixing seeds                                                                            \u001b]8;id=372528;file:///home/alaassairi/classif/tools/preprocess.py\u001b\\\u001b[2mpreprocess.py\u001b[0m\u001b]8;;\u001b\\\u001b[2m:\u001b[0m\u001b]8;id=219684;file:///home/alaassairi/classif/tools/preprocess.py#65\u001b\\\u001b[2m65\u001b[0m\u001b]8;;\u001b\\\n"
      ]
     },
     "metadata": {},
     "output_type": "display_data"
    },
    {
     "data": {
      "text/html": [
       "<pre style=\"white-space:pre;overflow-x:auto;line-height:normal;font-family:Menlo,'DejaVu Sans Mono',consolas,'Courier New',monospace\"><span style=\"color: #7fbfbf; text-decoration-color: #7fbfbf\">           </span><span style=\"color: #008000; text-decoration-color: #008000; font-weight: bold\">Started preprocessing</span>                                                                  <a href=\"file:///home/alaassairi/classif/tools/preprocess.py\" target=\"_blank\"><span style=\"color: #7f7f7f; text-decoration-color: #7f7f7f\">preprocess.py</span></a><span style=\"color: #7f7f7f; text-decoration-color: #7f7f7f\">:</span><a href=\"file:///home/alaassairi/classif/tools/preprocess.py#562\" target=\"_blank\"><span style=\"color: #7f7f7f; text-decoration-color: #7f7f7f\">562</span></a>\n",
       "</pre>\n"
      ],
      "text/plain": [
       "\u001b[2;36m          \u001b[0m\u001b[2;36m \u001b[0m\u001b[1;32mStarted preprocessing\u001b[0m                                                                  \u001b]8;id=288389;file:///home/alaassairi/classif/tools/preprocess.py\u001b\\\u001b[2mpreprocess.py\u001b[0m\u001b]8;;\u001b\\\u001b[2m:\u001b[0m\u001b]8;id=256787;file:///home/alaassairi/classif/tools/preprocess.py#562\u001b\\\u001b[2m562\u001b[0m\u001b]8;;\u001b\\\n"
      ]
     },
     "metadata": {},
     "output_type": "display_data"
    },
    {
     "data": {
      "text/html": [
       "<pre style=\"white-space:pre;overflow-x:auto;line-height:normal;font-family:Menlo,'DejaVu Sans Mono',consolas,'Courier New',monospace\"><span style=\"color: #7fbfbf; text-decoration-color: #7fbfbf\">           </span>Adding geopopulation <span style=\"color: #008080; text-decoration-color: #008080; font-weight: bold\">2</span>                                                                 <a href=\"file:///home/alaassairi/classif/tools/preprocess.py\" target=\"_blank\"><span style=\"color: #7f7f7f; text-decoration-color: #7f7f7f\">preprocess.py</span></a><span style=\"color: #7f7f7f; text-decoration-color: #7f7f7f\">:</span><a href=\"file:///home/alaassairi/classif/tools/preprocess.py#420\" target=\"_blank\"><span style=\"color: #7f7f7f; text-decoration-color: #7f7f7f\">420</span></a>\n",
       "</pre>\n"
      ],
      "text/plain": [
       "\u001b[2;36m          \u001b[0m\u001b[2;36m \u001b[0mAdding geopopulation \u001b[1;36m2\u001b[0m                                                                 \u001b]8;id=709570;file:///home/alaassairi/classif/tools/preprocess.py\u001b\\\u001b[2mpreprocess.py\u001b[0m\u001b]8;;\u001b\\\u001b[2m:\u001b[0m\u001b]8;id=776646;file:///home/alaassairi/classif/tools/preprocess.py#420\u001b\\\u001b[2m420\u001b[0m\u001b]8;;\u001b\\\n"
      ]
     },
     "metadata": {},
     "output_type": "display_data"
    },
    {
     "data": {
      "text/html": [
       "<pre style=\"white-space:pre;overflow-x:auto;line-height:normal;font-family:Menlo,'DejaVu Sans Mono',consolas,'Courier New',monospace\"><span style=\"color: #7fbfbf; text-decoration-color: #7fbfbf\">           </span>Frequency encoding <span style=\"font-weight: bold\">[</span><span style=\"color: #008000; text-decoration-color: #008000\">'city'</span><span style=\"font-weight: bold\">]</span>                                                            <a href=\"file:///home/alaassairi/classif/tools/preprocess.py\" target=\"_blank\"><span style=\"color: #7f7f7f; text-decoration-color: #7f7f7f\">preprocess.py</span></a><span style=\"color: #7f7f7f; text-decoration-color: #7f7f7f\">:</span><a href=\"file:///home/alaassairi/classif/tools/preprocess.py#349\" target=\"_blank\"><span style=\"color: #7f7f7f; text-decoration-color: #7f7f7f\">349</span></a>\n",
       "</pre>\n"
      ],
      "text/plain": [
       "\u001b[2;36m          \u001b[0m\u001b[2;36m \u001b[0mFrequency encoding \u001b[1m[\u001b[0m\u001b[32m'city'\u001b[0m\u001b[1m]\u001b[0m                                                            \u001b]8;id=442417;file:///home/alaassairi/classif/tools/preprocess.py\u001b\\\u001b[2mpreprocess.py\u001b[0m\u001b]8;;\u001b\\\u001b[2m:\u001b[0m\u001b]8;id=33326;file:///home/alaassairi/classif/tools/preprocess.py#349\u001b\\\u001b[2m349\u001b[0m\u001b]8;;\u001b\\\n"
      ]
     },
     "metadata": {},
     "output_type": "display_data"
    },
    {
     "data": {
      "text/html": [
       "<pre style=\"white-space:pre;overflow-x:auto;line-height:normal;font-family:Menlo,'DejaVu Sans Mono',consolas,'Courier New',monospace\"><span style=\"color: #7fbfbf; text-decoration-color: #7fbfbf\">           </span>Adding radius and angle                                                                <a href=\"file:///home/alaassairi/classif/tools/preprocess.py\" target=\"_blank\"><span style=\"color: #7f7f7f; text-decoration-color: #7f7f7f\">preprocess.py</span></a><span style=\"color: #7f7f7f; text-decoration-color: #7f7f7f\">:</span><a href=\"file:///home/alaassairi/classif/tools/preprocess.py#468\" target=\"_blank\"><span style=\"color: #7f7f7f; text-decoration-color: #7f7f7f\">468</span></a>\n",
       "</pre>\n"
      ],
      "text/plain": [
       "\u001b[2;36m          \u001b[0m\u001b[2;36m \u001b[0mAdding radius and angle                                                                \u001b]8;id=529903;file:///home/alaassairi/classif/tools/preprocess.py\u001b\\\u001b[2mpreprocess.py\u001b[0m\u001b]8;;\u001b\\\u001b[2m:\u001b[0m\u001b]8;id=631262;file:///home/alaassairi/classif/tools/preprocess.py#468\u001b\\\u001b[2m468\u001b[0m\u001b]8;;\u001b\\\n"
      ]
     },
     "metadata": {},
     "output_type": "display_data"
    },
    {
     "data": {
      "text/html": [
       "<pre style=\"white-space:pre;overflow-x:auto;line-height:normal;font-family:Menlo,'DejaVu Sans Mono',consolas,'Courier New',monospace\"><span style=\"color: #7fbfbf; text-decoration-color: #7fbfbf\">           </span>Adding polar angles : <span style=\"font-weight: bold\">[</span><span style=\"color: #008080; text-decoration-color: #008080; font-weight: bold\">10</span>, <span style=\"color: #008080; text-decoration-color: #008080; font-weight: bold\">30</span>, <span style=\"color: #008080; text-decoration-color: #008080; font-weight: bold\">45</span>, <span style=\"color: #008080; text-decoration-color: #008080; font-weight: bold\">60</span>, <span style=\"color: #008080; text-decoration-color: #008080; font-weight: bold\">70</span>, <span style=\"color: #008080; text-decoration-color: #008080; font-weight: bold\">90</span>, <span style=\"color: #008080; text-decoration-color: #008080; font-weight: bold\">145</span>, <span style=\"color: #008080; text-decoration-color: #008080; font-weight: bold\">180</span><span style=\"font-weight: bold\">]</span>                               <a href=\"file:///home/alaassairi/classif/tools/preprocess.py\" target=\"_blank\"><span style=\"color: #7f7f7f; text-decoration-color: #7f7f7f\">preprocess.py</span></a><span style=\"color: #7f7f7f; text-decoration-color: #7f7f7f\">:</span><a href=\"file:///home/alaassairi/classif/tools/preprocess.py#365\" target=\"_blank\"><span style=\"color: #7f7f7f; text-decoration-color: #7f7f7f\">365</span></a>\n",
       "</pre>\n"
      ],
      "text/plain": [
       "\u001b[2;36m          \u001b[0m\u001b[2;36m \u001b[0mAdding polar angles : \u001b[1m[\u001b[0m\u001b[1;36m10\u001b[0m, \u001b[1;36m30\u001b[0m, \u001b[1;36m45\u001b[0m, \u001b[1;36m60\u001b[0m, \u001b[1;36m70\u001b[0m, \u001b[1;36m90\u001b[0m, \u001b[1;36m145\u001b[0m, \u001b[1;36m180\u001b[0m\u001b[1m]\u001b[0m                               \u001b]8;id=681453;file:///home/alaassairi/classif/tools/preprocess.py\u001b\\\u001b[2mpreprocess.py\u001b[0m\u001b]8;;\u001b\\\u001b[2m:\u001b[0m\u001b]8;id=735392;file:///home/alaassairi/classif/tools/preprocess.py#365\u001b\\\u001b[2m365\u001b[0m\u001b]8;;\u001b\\\n"
      ]
     },
     "metadata": {},
     "output_type": "display_data"
    },
    {
     "data": {
      "text/html": [
       "<pre style=\"white-space:pre;overflow-x:auto;line-height:normal;font-family:Menlo,'DejaVu Sans Mono',consolas,'Courier New',monospace\"><span style=\"color: #7fbfbf; text-decoration-color: #7fbfbf\">[20:40:26] </span>Adding polar PCA                                                                       <a href=\"file:///home/alaassairi/classif/tools/preprocess.py\" target=\"_blank\"><span style=\"color: #7f7f7f; text-decoration-color: #7f7f7f\">preprocess.py</span></a><span style=\"color: #7f7f7f; text-decoration-color: #7f7f7f\">:</span><a href=\"file:///home/alaassairi/classif/tools/preprocess.py#483\" target=\"_blank\"><span style=\"color: #7f7f7f; text-decoration-color: #7f7f7f\">483</span></a>\n",
       "</pre>\n"
      ],
      "text/plain": [
       "\u001b[2;36m[20:40:26]\u001b[0m\u001b[2;36m \u001b[0mAdding polar PCA                                                                       \u001b]8;id=617889;file:///home/alaassairi/classif/tools/preprocess.py\u001b\\\u001b[2mpreprocess.py\u001b[0m\u001b]8;;\u001b\\\u001b[2m:\u001b[0m\u001b]8;id=291704;file:///home/alaassairi/classif/tools/preprocess.py#483\u001b\\\u001b[2m483\u001b[0m\u001b]8;;\u001b\\\n"
      ]
     },
     "metadata": {},
     "output_type": "display_data"
    },
    {
     "name": "stderr",
     "output_type": "stream",
     "text": [
      "/home/alaassairi/anaconda3/envs/classif/lib/python3.10/site-packages/sklearn/base.py:432: UserWarning: X has feature names, but PCA was fitted without feature names\n",
      "  warnings.warn(\n",
      "/home/alaassairi/anaconda3/envs/classif/lib/python3.10/site-packages/sklearn/base.py:432: UserWarning: X has feature names, but PCA was fitted without feature names\n",
      "  warnings.warn(\n"
     ]
    },
    {
     "data": {
      "text/html": [
       "<pre style=\"white-space:pre;overflow-x:auto;line-height:normal;font-family:Menlo,'DejaVu Sans Mono',consolas,'Courier New',monospace\"><span style=\"color: #7fbfbf; text-decoration-color: #7fbfbf\">           </span>Adding geodata                                                                         <a href=\"file:///home/alaassairi/classif/tools/preprocess.py\" target=\"_blank\"><span style=\"color: #7f7f7f; text-decoration-color: #7f7f7f\">preprocess.py</span></a><span style=\"color: #7f7f7f; text-decoration-color: #7f7f7f\">:</span><a href=\"file:///home/alaassairi/classif/tools/preprocess.py#181\" target=\"_blank\"><span style=\"color: #7f7f7f; text-decoration-color: #7f7f7f\">181</span></a>\n",
       "</pre>\n"
      ],
      "text/plain": [
       "\u001b[2;36m          \u001b[0m\u001b[2;36m \u001b[0mAdding geodata                                                                         \u001b]8;id=844962;file:///home/alaassairi/classif/tools/preprocess.py\u001b\\\u001b[2mpreprocess.py\u001b[0m\u001b]8;;\u001b\\\u001b[2m:\u001b[0m\u001b]8;id=167414;file:///home/alaassairi/classif/tools/preprocess.py#181\u001b\\\u001b[2m181\u001b[0m\u001b]8;;\u001b\\\n"
      ]
     },
     "metadata": {},
     "output_type": "display_data"
    },
    {
     "data": {
      "text/html": [
       "<pre style=\"white-space:pre;overflow-x:auto;line-height:normal;font-family:Menlo,'DejaVu Sans Mono',consolas,'Courier New',monospace\"><span style=\"color: #7fbfbf; text-decoration-color: #7fbfbf\">[20:40:34] </span>Adding extracted captions from images                                                  <a href=\"file:///home/alaassairi/classif/tools/preprocess.py\" target=\"_blank\"><span style=\"color: #7f7f7f; text-decoration-color: #7f7f7f\">preprocess.py</span></a><span style=\"color: #7f7f7f; text-decoration-color: #7f7f7f\">:</span><a href=\"file:///home/alaassairi/classif/tools/preprocess.py#710\" target=\"_blank\"><span style=\"color: #7f7f7f; text-decoration-color: #7f7f7f\">710</span></a>\n",
       "</pre>\n"
      ],
      "text/plain": [
       "\u001b[2;36m[20:40:34]\u001b[0m\u001b[2;36m \u001b[0mAdding extracted captions from images                                                  \u001b]8;id=163032;file:///home/alaassairi/classif/tools/preprocess.py\u001b\\\u001b[2mpreprocess.py\u001b[0m\u001b]8;;\u001b\\\u001b[2m:\u001b[0m\u001b]8;id=225772;file:///home/alaassairi/classif/tools/preprocess.py#710\u001b\\\u001b[2m710\u001b[0m\u001b]8;;\u001b\\\n"
      ]
     },
     "metadata": {},
     "output_type": "display_data"
    },
    {
     "data": {
      "text/html": [
       "<pre style=\"white-space:pre;overflow-x:auto;line-height:normal;font-family:Menlo,'DejaVu Sans Mono',consolas,'Courier New',monospace\"><span style=\"color: #7fbfbf; text-decoration-color: #7fbfbf\">[20:40:35] </span>Hot Encoding                                                                           <a href=\"file:///home/alaassairi/classif/tools/preprocess.py\" target=\"_blank\"><span style=\"color: #7f7f7f; text-decoration-color: #7f7f7f\">preprocess.py</span></a><span style=\"color: #7f7f7f; text-decoration-color: #7f7f7f\">:</span><a href=\"file:///home/alaassairi/classif/tools/preprocess.py#727\" target=\"_blank\"><span style=\"color: #7f7f7f; text-decoration-color: #7f7f7f\">727</span></a>\n",
       "</pre>\n"
      ],
      "text/plain": [
       "\u001b[2;36m[20:40:35]\u001b[0m\u001b[2;36m \u001b[0mHot Encoding                                                                           \u001b]8;id=398382;file:///home/alaassairi/classif/tools/preprocess.py\u001b\\\u001b[2mpreprocess.py\u001b[0m\u001b]8;;\u001b\\\u001b[2m:\u001b[0m\u001b]8;id=101414;file:///home/alaassairi/classif/tools/preprocess.py#727\u001b\\\u001b[2m727\u001b[0m\u001b]8;;\u001b\\\n"
      ]
     },
     "metadata": {},
     "output_type": "display_data"
    },
    {
     "data": {
      "text/html": [
       "<pre style=\"white-space:pre;overflow-x:auto;line-height:normal;font-family:Menlo,'DejaVu Sans Mono',consolas,'Courier New',monospace\"><span style=\"color: #7fbfbf; text-decoration-color: #7fbfbf\">           </span>Appling robust scaling                                                                 <a href=\"file:///home/alaassairi/classif/tools/preprocess.py\" target=\"_blank\"><span style=\"color: #7f7f7f; text-decoration-color: #7f7f7f\">preprocess.py</span></a><span style=\"color: #7f7f7f; text-decoration-color: #7f7f7f\">:</span><a href=\"file:///home/alaassairi/classif/tools/preprocess.py#784\" target=\"_blank\"><span style=\"color: #7f7f7f; text-decoration-color: #7f7f7f\">784</span></a>\n",
       "</pre>\n"
      ],
      "text/plain": [
       "\u001b[2;36m          \u001b[0m\u001b[2;36m \u001b[0mAppling robust scaling                                                                 \u001b]8;id=277370;file:///home/alaassairi/classif/tools/preprocess.py\u001b\\\u001b[2mpreprocess.py\u001b[0m\u001b]8;;\u001b\\\u001b[2m:\u001b[0m\u001b]8;id=846335;file:///home/alaassairi/classif/tools/preprocess.py#784\u001b\\\u001b[2m784\u001b[0m\u001b]8;;\u001b\\\n"
      ]
     },
     "metadata": {},
     "output_type": "display_data"
    },
    {
     "data": {
      "text/html": [
       "<pre style=\"white-space:pre;overflow-x:auto;line-height:normal;font-family:Menlo,'DejaVu Sans Mono',consolas,'Courier New',monospace\"><span style=\"color: #7fbfbf; text-decoration-color: #7fbfbf\">           </span>Dumping <span style=\"font-weight: bold\">[</span><span style=\"color: #008000; text-decoration-color: #008000\">'approximate_latitude'</span><span style=\"font-weight: bold\">]</span>                                                       <a href=\"file:///home/alaassairi/classif/tools/preprocess.py\" target=\"_blank\"><span style=\"color: #7f7f7f; text-decoration-color: #7f7f7f\">preprocess.py</span></a><span style=\"color: #7f7f7f; text-decoration-color: #7f7f7f\">:</span><a href=\"file:///home/alaassairi/classif/tools/preprocess.py#801\" target=\"_blank\"><span style=\"color: #7f7f7f; text-decoration-color: #7f7f7f\">801</span></a>\n",
       "</pre>\n"
      ],
      "text/plain": [
       "\u001b[2;36m          \u001b[0m\u001b[2;36m \u001b[0mDumping \u001b[1m[\u001b[0m\u001b[32m'approximate_latitude'\u001b[0m\u001b[1m]\u001b[0m                                                       \u001b]8;id=130889;file:///home/alaassairi/classif/tools/preprocess.py\u001b\\\u001b[2mpreprocess.py\u001b[0m\u001b]8;;\u001b\\\u001b[2m:\u001b[0m\u001b]8;id=967096;file:///home/alaassairi/classif/tools/preprocess.py#801\u001b\\\u001b[2m801\u001b[0m\u001b]8;;\u001b\\\n"
      ]
     },
     "metadata": {},
     "output_type": "display_data"
    },
    {
     "data": {
      "text/html": [
       "<pre style=\"white-space:pre;overflow-x:auto;line-height:normal;font-family:Menlo,'DejaVu Sans Mono',consolas,'Courier New',monospace\"><span style=\"color: #7fbfbf; text-decoration-color: #7fbfbf\">           </span><span style=\"color: #008000; text-decoration-color: #008000; font-weight: bold\">Finished preprocessing </span>                                                                <a href=\"file:///home/alaassairi/classif/tools/preprocess.py\" target=\"_blank\"><span style=\"color: #7f7f7f; text-decoration-color: #7f7f7f\">preprocess.py</span></a><span style=\"color: #7f7f7f; text-decoration-color: #7f7f7f\">:</span><a href=\"file:///home/alaassairi/classif/tools/preprocess.py#808\" target=\"_blank\"><span style=\"color: #7f7f7f; text-decoration-color: #7f7f7f\">808</span></a>\n",
       "</pre>\n"
      ],
      "text/plain": [
       "\u001b[2;36m          \u001b[0m\u001b[2;36m \u001b[0m\u001b[1;32mFinished preprocessing \u001b[0m                                                                \u001b]8;id=869693;file:///home/alaassairi/classif/tools/preprocess.py\u001b\\\u001b[2mpreprocess.py\u001b[0m\u001b]8;;\u001b\\\u001b[2m:\u001b[0m\u001b]8;id=659176;file:///home/alaassairi/classif/tools/preprocess.py#808\u001b\\\u001b[2m808\u001b[0m\u001b]8;;\u001b\\\n"
      ]
     },
     "metadata": {},
     "output_type": "display_data"
    }
   ],
   "source": [
    "\n",
    "xgb_params, lgb_params, cat_params=load_hyperparameters()\n",
    "X_train_1,Y_train_1, X_test_1 = preprocess(X_train_0, Y_train_0, X_test_0,preprocessing_parameters)\n"
   ]
  },
  {
   "attachments": {},
   "cell_type": "markdown",
   "metadata": {},
   "source": [
    "## Training & eval"
   ]
  },
  {
   "cell_type": "code",
   "execution_count": 7,
   "metadata": {},
   "outputs": [],
   "source": [
    "# shitiest ids\n",
    "# 36035051\n",
    "# 35874833 \n",
    "# 36014671 a pharmacy?\n",
    "# 19187645 eeh\n",
    "# cond = X_train_0[\"id_annonce\"].isin(ids)\n",
    "# X_train_1=X_train_1.loc[~cond]\n",
    "# Y_train_1=Y_train_1.loc[~cond]\n",
    "\n"
   ]
  },
  {
   "cell_type": "code",
   "execution_count": 38,
   "metadata": {},
   "outputs": [
    {
     "data": {
      "text/html": [
       "<pre style=\"white-space:pre;overflow-x:auto;line-height:normal;font-family:Menlo,'DejaVu Sans Mono',consolas,'Courier New',monospace\"><span style=\"color: #7fbfbf; text-decoration-color: #7fbfbf\">           </span><span style=\"color: #008000; text-decoration-color: #008000; font-weight: bold\">Loading hyperparameters...</span>                                                             <a href=\"file:///home/alaassairi/classif/tools/preprocess.py\" target=\"_blank\"><span style=\"color: #7f7f7f; text-decoration-color: #7f7f7f\">preprocess.py</span></a><span style=\"color: #7f7f7f; text-decoration-color: #7f7f7f\">:</span><a href=\"file:///home/alaassairi/classif/tools/preprocess.py#164\" target=\"_blank\"><span style=\"color: #7f7f7f; text-decoration-color: #7f7f7f\">164</span></a>\n",
       "</pre>\n"
      ],
      "text/plain": [
       "\u001b[2;36m          \u001b[0m\u001b[2;36m \u001b[0m\u001b[1;32mLoading hyperparameters\u001b[0m\u001b[1;32m...\u001b[0m                                                             \u001b]8;id=605397;file:///home/alaassairi/classif/tools/preprocess.py\u001b\\\u001b[2mpreprocess.py\u001b[0m\u001b]8;;\u001b\\\u001b[2m:\u001b[0m\u001b]8;id=201629;file:///home/alaassairi/classif/tools/preprocess.py#164\u001b\\\u001b[2m164\u001b[0m\u001b]8;;\u001b\\\n"
      ]
     },
     "metadata": {},
     "output_type": "display_data"
    }
   ],
   "source": [
    "\n",
    "from sklearn.metrics import mean_absolute_error, mean_squared_error\n",
    "xgb_params, lgb_params, cat_params=load_hyperparameters()\n",
    "N_FOLD = 10\n",
    "EARLY_STOP =250 \n",
    "\n",
    "XGB_ITERATIONS = 100\n",
    "LGB_ITERATIONS = 1000\n",
    "CAT_ITERATIONS = 100\n"
   ]
  },
  {
   "cell_type": "code",
   "execution_count": 39,
   "metadata": {},
   "outputs": [],
   "source": [
    "def train_xgb(X_train, y_train, X_test):\n",
    "    nfold = N_FOLD\n",
    "    skf = KFold(n_splits=nfold, shuffle=True, random_state=2019)\n",
    "    progress_bar = Progress(\n",
    "        TextColumn('[progress.percentage]{task.percentage:>3.0f}%'),\n",
    "        BarColumn(),\n",
    "        MofNCompleteColumn(),\n",
    "        TextColumn('•'),\n",
    "        TimeElapsedColumn(),\n",
    "        TextColumn('•'),\n",
    "        TimeRemainingColumn(),\n",
    "    )\n",
    "\n",
    "    oof = np.zeros(len(X_train))\n",
    "    predictions = np.zeros(len(X_train))\n",
    "    final_predictions = np.zeros(len(X_test))\n",
    "\n",
    "    predictors = X_train.columns.values.tolist()\n",
    "\n",
    "    i = 1\n",
    "\n",
    "    with progress_bar as progress:\n",
    "        task1 = progress.add_task('[red]Training XGB', total=nfold)\n",
    "        while not progress.finished:\n",
    "\n",
    "            for train_index, valid_index in skf.split(X_train, y_train.values):\n",
    "                # print(\"\\nFold {}\".format(i))\n",
    "                xg_train = xgb.DMatrix(\n",
    "                    X_train.iloc[train_index][predictors].values,\n",
    "                    y_train.iloc[train_index].values,\n",
    "                )\n",
    "                xg_valid = xgb.DMatrix(\n",
    "                    X_train.iloc[valid_index][predictors].values,\n",
    "                    y_train.iloc[valid_index].values,\n",
    "                )\n",
    "\n",
    "                clf = xgb.train(xgb_params,\n",
    "                                xg_train,\n",
    "                                XGB_ITERATIONS,\n",
    "                                evals=[(xg_train, 'train'),\n",
    "                                       (xg_valid, 'eval')],\n",
    "                                verbose_eval=False)\n",
    "                oof[valid_index] = clf.predict(\n",
    "                    xgb.DMatrix(X_train.iloc[valid_index][predictors].values))\n",
    "\n",
    "                predictions += clf.predict(\n",
    "                    xgb.DMatrix(X_train[predictors].values)) / nfold\n",
    "                final_predictions += clf.predict(\n",
    "                    (xgb.DMatrix(X_test[predictors].values))) / nfold\n",
    "\n",
    "                i = i + 1\n",
    "                progress.update(task1, advance=1)\n",
    "                time.sleep(0.5)\n",
    "    R2 = r2_score(y_train.values, oof)\n",
    "    mae = mean_absolute_error(y_train.values, oof)\n",
    "    mse = mean_squared_error(y_train.values, oof)\n",
    "    rmse = np.sqrt(mse)\n",
    "    console.log(\n",
    "        f'R2 = {R2:<0.4f} --- MAE={mae:<0.4f} ---MSE={mse:<0.4f} --- RMSE ={rmse:<0.4f} | CV ={N_FOLD} ITERATIONS ={XGB_ITERATIONS}'\n",
    "    )\n",
    "    return final_predictions, predictions, R2, mae, mse, rmse\n",
    "\n",
    "\n",
    "def train_lgb(X_train, y_train, X_test):\n",
    "    nfold = N_FOLD\n",
    "    skf = KFold(n_splits=nfold, shuffle=True, random_state=2019)\n",
    "    progress_bar = Progress(\n",
    "        TextColumn('[progress.percentage]{task.percentage:>3.0f}%'),\n",
    "        BarColumn(),\n",
    "        MofNCompleteColumn(),\n",
    "        TextColumn('•'),\n",
    "        TimeElapsedColumn(),\n",
    "        TextColumn('•'),\n",
    "        TimeRemainingColumn(),\n",
    "    )\n",
    "    oof = np.zeros(len(X_train))\n",
    "    predictions = np.zeros(len(X_train))\n",
    "    final_predictions = np.zeros(len(X_test))\n",
    "\n",
    "    predictors = X_train.columns.values.tolist()\n",
    "\n",
    "    i = 1\n",
    "    with progress_bar as progress:\n",
    "        task1 = progress.add_task('[red]Training LGB', total=nfold)\n",
    "        while not progress.finished:\n",
    "            for train_index, valid_index in skf.split(X_train, y_train.values):\n",
    "                d_train = lgb.Dataset(\n",
    "                    X_train.iloc[train_index][predictors].values,\n",
    "                    y_train.iloc[train_index].values,\n",
    "                )\n",
    "                d_valid = lgb.Dataset(\n",
    "                    X_train.iloc[valid_index][predictors].values,\n",
    "                    y_train.iloc[valid_index].values,\n",
    "                )\n",
    "                watchlist = [d_valid]\n",
    "                clf = lgb.train(lgb_params,\n",
    "                                d_train,\n",
    "                                num_boost_round=LGB_ITERATIONS,\n",
    "                                valid_sets=d_valid,\n",
    "                                callbacks=[lgb.log_evaluation(period=0)])\n",
    "                oof[valid_index] = clf.predict(\n",
    "                    X_train.iloc[valid_index][predictors].values)\n",
    "\n",
    "                predictions += clf.predict(X_train[predictors].values) / nfold\n",
    "                final_predictions += clf.predict(\n",
    "                    X_test[predictors].values) / nfold\n",
    "                i = i + 1\n",
    "                progress.update(task1, advance=1)\n",
    "                time.sleep(0.5)\n",
    "\n",
    "    R2 = r2_score(y_train.values, oof)\n",
    "    mae = mean_absolute_error(y_train.values, oof)\n",
    "    mse = mean_squared_error(y_train.values, oof)\n",
    "    rmse = np.sqrt(mse)\n",
    "    console.log(\n",
    "        f'R2 = {R2:<0.4f} --- MAE={mae:<0.4f} ---MSE={mse:<0.4f} --- RMSE ={rmse:<0.4f} | CV ={N_FOLD} ITERATIONS ={LGB_ITERATIONS}'\n",
    "    )\n",
    "    return final_predictions, predictions, R2, mae, mse, rmse\n",
    "\n",
    "\n",
    "def train_cat(X_train, y_train, X_test):\n",
    "    nfold = N_FOLD\n",
    "    skf = KFold(n_splits=nfold, shuffle=True, random_state=2019)\n",
    "    progress_bar = Progress(\n",
    "        TextColumn('[progress.percentage]{task.percentage:>3.0f}%'),\n",
    "        BarColumn(),\n",
    "        MofNCompleteColumn(),\n",
    "        TextColumn('•'),\n",
    "        TimeElapsedColumn(),\n",
    "        TextColumn('•'),\n",
    "        TimeRemainingColumn(),\n",
    "    )\n",
    "    oof = np.zeros(len(X_train))\n",
    "    predictions = np.zeros(len(X_train))\n",
    "    final_predictions = np.zeros(len(X_test))\n",
    "    predictors = X_train.columns.values.tolist()\n",
    "\n",
    "    i = 1\n",
    "    with progress_bar as progress:\n",
    "        task1 = progress.add_task('[red]Training CAT', total=nfold)\n",
    "        while not progress.finished:\n",
    "            for train_index, valid_index in skf.split(X_train, y_train.values):\n",
    "                # print(\"\\nFold {}\".format(i))\n",
    "                d_train = cat.Pool(\n",
    "                    X_train.iloc[train_index][predictors].values,\n",
    "                    y_train.iloc[train_index].values,\n",
    "                )\n",
    "                d_valid = cat.Pool(\n",
    "                    X_train.iloc[valid_index][predictors].values,\n",
    "                    y_train.iloc[valid_index].values,\n",
    "                )\n",
    "                watchlist = [d_valid]\n",
    "                clf = cat.train(d_train,\n",
    "                                cat_params,\n",
    "                                num_boost_round=CAT_ITERATIONS,\n",
    "                                eval_set=d_valid,\n",
    "                                early_stopping_rounds=EARLY_STOP,\n",
    "                                verbose_eval=0)\n",
    "                oof[valid_index] = clf.predict(\n",
    "                    X_train.iloc[valid_index][predictors].values)\n",
    "\n",
    "                predictions += clf.predict(X_train[predictors].values) / nfold\n",
    "                final_predictions += clf.predict(\n",
    "                    X_test[predictors].values) / nfold\n",
    "\n",
    "                i = i + 1\n",
    "                progress.update(task1, advance=1)\n",
    "                time.sleep(0.5)\n",
    "    R2 = r2_score(y_train.values, oof)\n",
    "    mae = mean_absolute_error(y_train.values, oof)\n",
    "    mse = mean_squared_error(y_train.values, oof)\n",
    "    rmse = np.sqrt(mse)\n",
    "    console.log(\n",
    "        f'R2 = {R2:<0.4f} --- MAE={mae:<0.4f} ---MSE={mse:<0.4f} --- RMSE ={rmse:<0.4f} | CV ={N_FOLD} ITERATIONS ={CAT_ITERATIONS}'\n",
    "    )\n",
    "    return final_predictions, predictions, R2, mae, mse, rmse\n"
   ]
  },
  {
   "cell_type": "code",
   "execution_count": 40,
   "metadata": {},
   "outputs": [
    {
     "data": {
      "application/vnd.jupyter.widget-view+json": {
       "model_id": "e958164ccb7d47409de39e5e6bacd25c",
       "version_major": 2,
       "version_minor": 0
      },
      "text/plain": [
       "Output()"
      ]
     },
     "metadata": {},
     "output_type": "display_data"
    },
    {
     "data": {
      "text/html": [
       "<pre style=\"white-space:pre;overflow-x:auto;line-height:normal;font-family:Menlo,'DejaVu Sans Mono',consolas,'Courier New',monospace\"></pre>\n"
      ],
      "text/plain": []
     },
     "metadata": {},
     "output_type": "display_data"
    },
    {
     "data": {
      "text/html": [
       "<pre style=\"white-space:pre;overflow-x:auto;line-height:normal;font-family:Menlo,'DejaVu Sans Mono',consolas,'Courier New',monospace\">\n",
       "</pre>\n"
      ],
      "text/plain": [
       "\n"
      ]
     },
     "metadata": {},
     "output_type": "display_data"
    },
    {
     "data": {
      "text/html": [
       "<pre style=\"white-space:pre;overflow-x:auto;line-height:normal;font-family:Menlo,'DejaVu Sans Mono',consolas,'Courier New',monospace\"><span style=\"color: #7fbfbf; text-decoration-color: #7fbfbf\">[20:41:04] </span>R2 = <span style=\"color: #008080; text-decoration-color: #008080; font-weight: bold\">0.8192</span> --- <span style=\"color: #808000; text-decoration-color: #808000\">MAE</span>=<span style=\"color: #008080; text-decoration-color: #008080; font-weight: bold\">0.2417</span> ---<span style=\"color: #808000; text-decoration-color: #808000\">MSE</span>=<span style=\"color: #008080; text-decoration-color: #008080; font-weight: bold\">0.1183</span> --- RMSE =<span style=\"color: #008080; text-decoration-color: #008080; font-weight: bold\">0.3439</span> | CV =<span style=\"color: #008080; text-decoration-color: #008080; font-weight: bold\">10</span> ITERATIONS =<span style=\"color: #008080; text-decoration-color: #008080; font-weight: bold\">100</span>      <a href=\"file:///tmp/ipykernel_3657266/1199028262.py\" target=\"_blank\"><span style=\"color: #7f7f7f; text-decoration-color: #7f7f7f\">1199028262.py</span></a><span style=\"color: #7f7f7f; text-decoration-color: #7f7f7f\">:</span><a href=\"file:///tmp/ipykernel_3657266/1199028262.py#58\" target=\"_blank\"><span style=\"color: #7f7f7f; text-decoration-color: #7f7f7f\">58</span></a>\n",
       "</pre>\n"
      ],
      "text/plain": [
       "\u001b[2;36m[20:41:04]\u001b[0m\u001b[2;36m \u001b[0mR2 = \u001b[1;36m0.8192\u001b[0m --- \u001b[33mMAE\u001b[0m=\u001b[1;36m0\u001b[0m\u001b[1;36m.2417\u001b[0m ---\u001b[33mMSE\u001b[0m=\u001b[1;36m0\u001b[0m\u001b[1;36m.1183\u001b[0m --- RMSE =\u001b[1;36m0.3439\u001b[0m | CV =\u001b[1;36m10\u001b[0m ITERATIONS =\u001b[1;36m100\u001b[0m      \u001b]8;id=238968;file:///tmp/ipykernel_3657266/1199028262.py\u001b\\\u001b[2m1199028262.py\u001b[0m\u001b]8;;\u001b\\\u001b[2m:\u001b[0m\u001b]8;id=810620;file:///tmp/ipykernel_3657266/1199028262.py#58\u001b\\\u001b[2m58\u001b[0m\u001b]8;;\u001b\\\n"
      ]
     },
     "metadata": {},
     "output_type": "display_data"
    }
   ],
   "source": [
    "xgb_preds,xgb_train_preds, r2_xgb, mae_xgb, mse_xgb, rmse_xgb = train_xgb(X_train_1, Y_train_1,X_test_1) \n",
    "\n",
    "# R2 = 0.8049 --- MAE=0.2548 ---MSE=0.1276 --- RMSE =0.3572 | CV =10 |  100 iterations (old hyper)\n",
    "# R2 = 0.8096 --- MAE=0.2454 ---MSE=0.1246 --- RMSE =0.3529 | CV =10  (old hyper)\n",
    "# R2 = 0.8113 --- MAE=0.2433 ---MSE=0.1234 --- RMSE =0.3513 | CV =25  (old hyper)\n",
    "\n",
    "# R2 = 0.8184 --- MAE=0.2420 ---MSE=0.1188 --- RMSE =0.3447 | CV =10  | 100 iterations  (new hyper)\n",
    "# R2 = 0.8192 --- MAE=0.2417 ---MSE=0.1183 --- RMSE =0.3439 | CV =10 ITERATIONS =100\n",
    "# R2 = 0.8233 --- MAE=0.2363 ---MSE=0.1156 --- RMSE =0.3400 | CV =10 ITERATIONS =1000 (new hyper)\n",
    "# R2 = 0.8257 --- MAE=0.2344 ---MSE=0.1140 --- RMSE =0.3377 | CV =25 ITERATIONS =1000 (new hyper)\n"
   ]
  },
  {
   "cell_type": "code",
   "execution_count": 41,
   "metadata": {},
   "outputs": [
    {
     "data": {
      "application/vnd.jupyter.widget-view+json": {
       "model_id": "ddb6e9ab07b448eca60e0bb1e6533a7c",
       "version_major": 2,
       "version_minor": 0
      },
      "text/plain": [
       "Output()"
      ]
     },
     "metadata": {},
     "output_type": "display_data"
    },
    {
     "data": {
      "text/html": [
       "<pre style=\"white-space:pre;overflow-x:auto;line-height:normal;font-family:Menlo,'DejaVu Sans Mono',consolas,'Courier New',monospace\"></pre>\n"
      ],
      "text/plain": []
     },
     "metadata": {},
     "output_type": "display_data"
    },
    {
     "data": {
      "text/html": [
       "<pre style=\"white-space:pre;overflow-x:auto;line-height:normal;font-family:Menlo,'DejaVu Sans Mono',consolas,'Courier New',monospace\">\n",
       "</pre>\n"
      ],
      "text/plain": [
       "\n"
      ]
     },
     "metadata": {},
     "output_type": "display_data"
    },
    {
     "data": {
      "text/html": [
       "<pre style=\"white-space:pre;overflow-x:auto;line-height:normal;font-family:Menlo,'DejaVu Sans Mono',consolas,'Courier New',monospace\"><span style=\"color: #7fbfbf; text-decoration-color: #7fbfbf\">[20:45:39] </span>R2 = <span style=\"color: #008080; text-decoration-color: #008080; font-weight: bold\">0.8243</span> --- <span style=\"color: #808000; text-decoration-color: #808000\">MAE</span>=<span style=\"color: #008080; text-decoration-color: #008080; font-weight: bold\">0.2301</span> ---<span style=\"color: #808000; text-decoration-color: #808000\">MSE</span>=<span style=\"color: #008080; text-decoration-color: #008080; font-weight: bold\">0.1149</span> --- RMSE =<span style=\"color: #008080; text-decoration-color: #008080; font-weight: bold\">0.3390</span> | CV =<span style=\"color: #008080; text-decoration-color: #008080; font-weight: bold\">10</span> ITERATIONS =<span style=\"color: #008080; text-decoration-color: #008080; font-weight: bold\">1000</span>    <a href=\"file:///tmp/ipykernel_3657266/1199028262.py\" target=\"_blank\"><span style=\"color: #7f7f7f; text-decoration-color: #7f7f7f\">1199028262.py</span></a><span style=\"color: #7f7f7f; text-decoration-color: #7f7f7f\">:</span><a href=\"file:///tmp/ipykernel_3657266/1199028262.py#115\" target=\"_blank\"><span style=\"color: #7f7f7f; text-decoration-color: #7f7f7f\">115</span></a>\n",
       "</pre>\n"
      ],
      "text/plain": [
       "\u001b[2;36m[20:45:39]\u001b[0m\u001b[2;36m \u001b[0mR2 = \u001b[1;36m0.8243\u001b[0m --- \u001b[33mMAE\u001b[0m=\u001b[1;36m0\u001b[0m\u001b[1;36m.2301\u001b[0m ---\u001b[33mMSE\u001b[0m=\u001b[1;36m0\u001b[0m\u001b[1;36m.1149\u001b[0m --- RMSE =\u001b[1;36m0.3390\u001b[0m | CV =\u001b[1;36m10\u001b[0m ITERATIONS =\u001b[1;36m1000\u001b[0m    \u001b]8;id=908573;file:///tmp/ipykernel_3657266/1199028262.py\u001b\\\u001b[2m1199028262.py\u001b[0m\u001b]8;;\u001b\\\u001b[2m:\u001b[0m\u001b]8;id=105907;file:///tmp/ipykernel_3657266/1199028262.py#115\u001b\\\u001b[2m115\u001b[0m\u001b]8;;\u001b\\\n"
      ]
     },
     "metadata": {},
     "output_type": "display_data"
    }
   ],
   "source": [
    "lgb_preds,lgb_train_preds, r2_lgb, mae_lgb, mse_lgb, rmse_lgb = train_lgb(X_train_1, Y_train_1,X_test_1)\n",
    "# R2 = 0.8216 --- MAE=0.2328 ---MSE=0.1167 --- RMSE =0.3416 CV10 1000\n",
    "# R2 = 0.8252 --- MAE=0.2310 ---MSE=0.1144 --- RMSE =0.3382 CV25 1000\n",
    "\n",
    "# R2 = 0.8265 --- MAE=0.2283 ---MSE=0.1135 --- RMSE =0.3368 | CV =25 ITERATIONS 2000 (new)\n",
    "# R2 = 0.8272 --- MAE=0.2274 ---MSE=0.1130 --- RMSE =0.3362 | CV =50 ITERATIONS 2000 (new)"
   ]
  },
  {
   "cell_type": "code",
   "execution_count": 19,
   "metadata": {},
   "outputs": [
    {
     "data": {
      "application/vnd.jupyter.widget-view+json": {
       "model_id": "8ab31c6aeb9047bcbaed2b8f99aef772",
       "version_major": 2,
       "version_minor": 0
      },
      "text/plain": [
       "Output()"
      ]
     },
     "metadata": {},
     "output_type": "display_data"
    },
    {
     "data": {
      "text/html": [
       "<pre style=\"white-space:pre;overflow-x:auto;line-height:normal;font-family:Menlo,'DejaVu Sans Mono',consolas,'Courier New',monospace\"></pre>\n"
      ],
      "text/plain": []
     },
     "metadata": {},
     "output_type": "display_data"
    },
    {
     "data": {
      "text/html": [
       "<pre style=\"white-space:pre;overflow-x:auto;line-height:normal;font-family:Menlo,'DejaVu Sans Mono',consolas,'Courier New',monospace\">\n",
       "</pre>\n"
      ],
      "text/plain": [
       "\n"
      ]
     },
     "metadata": {},
     "output_type": "display_data"
    },
    {
     "data": {
      "text/html": [
       "<pre style=\"white-space:pre;overflow-x:auto;line-height:normal;font-family:Menlo,'DejaVu Sans Mono',consolas,'Courier New',monospace\"><span style=\"color: #7fbfbf; text-decoration-color: #7fbfbf\">[19:56:25] </span>R2 = <span style=\"color: #008080; text-decoration-color: #008080; font-weight: bold\">0.8230</span> --- <span style=\"color: #808000; text-decoration-color: #808000\">MAE</span>=<span style=\"color: #008080; text-decoration-color: #008080; font-weight: bold\">0.2345</span> ---<span style=\"color: #808000; text-decoration-color: #808000\">MSE</span>=<span style=\"color: #008080; text-decoration-color: #008080; font-weight: bold\">0.1158</span> --- RMSE =<span style=\"color: #008080; text-decoration-color: #008080; font-weight: bold\">0.3402</span> | CV =<span style=\"color: #008080; text-decoration-color: #008080; font-weight: bold\">25</span> ITERATIONS =<span style=\"color: #008080; text-decoration-color: #008080; font-weight: bold\">3000</span>    <a href=\"file:///tmp/ipykernel_3657266/1199028262.py\" target=\"_blank\"><span style=\"color: #7f7f7f; text-decoration-color: #7f7f7f\">1199028262.py</span></a><span style=\"color: #7f7f7f; text-decoration-color: #7f7f7f\">:</span><a href=\"file:///tmp/ipykernel_3657266/1199028262.py#173\" target=\"_blank\"><span style=\"color: #7f7f7f; text-decoration-color: #7f7f7f\">173</span></a>\n",
       "</pre>\n"
      ],
      "text/plain": [
       "\u001b[2;36m[19:56:25]\u001b[0m\u001b[2;36m \u001b[0mR2 = \u001b[1;36m0.8230\u001b[0m --- \u001b[33mMAE\u001b[0m=\u001b[1;36m0\u001b[0m\u001b[1;36m.2345\u001b[0m ---\u001b[33mMSE\u001b[0m=\u001b[1;36m0\u001b[0m\u001b[1;36m.1158\u001b[0m --- RMSE =\u001b[1;36m0.3402\u001b[0m | CV =\u001b[1;36m25\u001b[0m ITERATIONS =\u001b[1;36m3000\u001b[0m    \u001b]8;id=958972;file:///tmp/ipykernel_3657266/1199028262.py\u001b\\\u001b[2m1199028262.py\u001b[0m\u001b]8;;\u001b\\\u001b[2m:\u001b[0m\u001b]8;id=674079;file:///tmp/ipykernel_3657266/1199028262.py#173\u001b\\\u001b[2m173\u001b[0m\u001b]8;;\u001b\\\n"
      ]
     },
     "metadata": {},
     "output_type": "display_data"
    }
   ],
   "source": [
    "cat_preds,cat_train_preds, r2_cat, mae_cat, mse_cat, rmse_cat = train_cat(X_train_1, Y_train_1,X_test_1)\n",
    "# R2 = 0.8188 --- MAE=0.2386 ---MSE=0.1185 --- RMSE =0.3443 CV 10 \n",
    "\n",
    "# R2 = 0.8230 --- MAE=0.2345 ---MSE=0.1158 --- RMSE =0.3402 | CV =25 ITERATIONS =3000    1199028262.py:173\n"
   ]
  },
  {
   "attachments": {},
   "cell_type": "markdown",
   "metadata": {},
   "source": [
    "## Inference\n"
   ]
  },
  {
   "cell_type": "code",
   "execution_count": 24,
   "metadata": {},
   "outputs": [
    {
     "name": "stdout",
     "output_type": "stream",
     "text": [
      "Finished submitting\n"
     ]
    }
   ],
   "source": [
    "# weights = [5/40,15/40,20/40] 22,840577560550404\n",
    "\n",
    "weights = [5/20,9/20, 6/20]  \n",
    "# final_predictions_sum= (\n",
    "#     weights[0]*np.exp(tuned_\"models[\"xgboost\"].predict(X_test_1)) +\n",
    "#     weights[1]*np.exp(tuned_models[\"lgb\"].predict(X_test_1)) + \n",
    "#     weights[2]*np.exp(tuned_models[\"cat\"].predict(X_test_1)) \n",
    "#     )\n",
    "\n",
    "final_predictions_sum= (\n",
    "    weights[0]*np.exp(xgb_preds) +\n",
    "    weights[1]*np.exp(lgb_preds) + \n",
    "    weights[2]*np.exp(cat_preds) \n",
    "    )\n",
    "\n",
    "final_predictions=pd.Series(final_predictions_sum,name=\"price\")\n",
    "final_predictions.head()\n",
    "final_submission = pd.concat([X_test_ids, final_predictions], axis=1)\n",
    "final_submission[\"id_annonce\"]=final_submission[\"id_annonce\"].astype(np.int32)\n",
    "final_submission.to_csv(\"data/final_submission_169.csv\", index=False, header=True)\n",
    "print(\"Finished submitting\")\n"
   ]
  },
  {
   "cell_type": "code",
   "execution_count": 15,
   "metadata": {},
   "outputs": [
    {
     "name": "stdout",
     "output_type": "stream",
     "text": [
      "Finished submitting\n"
     ]
    }
   ],
   "source": [
    "\n",
    "train_sum= (\n",
    "    weights[0]*np.exp(xgb_train_preds) +\n",
    "    weights[1]*np.exp(lgb_train_preds) + \n",
    "    weights[2]*np.exp(cat_train_preds) \n",
    "    )\n",
    "\n",
    "train_predictions=pd.Series(train_sum,name=\"price\")\n",
    "train_predictions.head()\n",
    "train_submission = pd.concat([X_train_ids, train_predictions], axis=1)\n",
    "train_submission[\"id_annonce\"]=train_submission[\"id_annonce\"].astype(np.int32)\n",
    "train_submission.to_csv(\"data/train_submission.csv\", index=False, header=True)\n",
    "print(\"Finished submitting\")"
   ]
  }
 ],
 "metadata": {
  "kernelspec": {
   "display_name": "Python 3 (ipykernel)",
   "language": "python",
   "name": "python3"
  },
  "language_info": {
   "codemirror_mode": {
    "name": "ipython",
    "version": 3
   },
   "file_extension": ".py",
   "mimetype": "text/x-python",
   "name": "python",
   "nbconvert_exporter": "python",
   "pygments_lexer": "ipython3",
   "version": "3.10.9"
  },
  "vscode": {
   "interpreter": {
    "hash": "7cad879572fc86dfe65b3e43b153c561e79ca25c5ffe8434d36e9a73cfcff219"
   }
  }
 },
 "nbformat": 4,
 "nbformat_minor": 2
}
