{
 "cells": [
  {
   "cell_type": "code",
   "execution_count": 1,
   "metadata": {},
   "outputs": [],
   "source": [
    "from tools.preprocess import *\n",
    "from sklearn.neighbors import KNeighborsRegressor\n",
    "from sklearn.ensemble import ExtraTreesRegressor, RandomForestRegressor\n",
    "from catboost import CatBoostRegressor\n",
    "from xgboost import XGBRegressor\n",
    "from lightgbm import LGBMRegressor\n"
   ]
  },
  {
   "cell_type": "code",
   "execution_count": 2,
   "metadata": {},
   "outputs": [],
   "source": [
    "X_train_0, Y_train_0, X_test_0, X_test_ids = load_data('data/')"
   ]
  },
  {
   "cell_type": "code",
   "execution_count": 4,
   "metadata": {},
   "outputs": [],
   "source": [
    "preprocessing_parameters = {\n",
    "    'drop_columns':[\"exposition\",\"energy_performance_category\",\"ghg_category\"],\n",
    "    'frequency_encoding':['city'],\n",
    "    'target_encoding':[],\n",
    "    'knn_imputation':[\"size\", \"land_size\",\"energy_performance_value\",\"ghg_value\", \"nb_rooms\",\"nb_bathrooms\", \"nb_bedrooms\"],\n",
    "    'feature_engineering':False,\n",
    "    'feature_transformation':False,\n",
    "    'hot_encoding':True,\n",
    "    'target_transformation':True,\n",
    "}"
   ]
  },
  {
   "cell_type": "code",
   "execution_count": 11,
   "metadata": {},
   "outputs": [],
   "source": [
    "X_train_1,Y_train_1, X_test_1 = preprocess(X_train_0, Y_train_0, X_test_0,preprocessing_parameters)"
   ]
  },
  {
   "cell_type": "code",
   "execution_count": 12,
   "metadata": {},
   "outputs": [],
   "source": [
    "xgb_params={'tree_method': 'auto',\n",
    " 'learning_rate': 0.22502761577232197,\n",
    " 'max_depth': 7,\n",
    " 'min_child_weight': 2.8420515790248526,\n",
    " 'subsample': 0.975,\n",
    " 'colsample_bytree': 0.75,\n",
    " 'colsample_bylevel': 0.925,\n",
    " 'gamma': 0.001531824642793309,\n",
    " 'reg_lambda': 0.010527402680638263,\n",
    " 'reg_alpha': 1.2647545029756599e-08}\n",
    "\n",
    "rfr_params={\n",
    "}\n",
    "etr_params={\n",
    "}\n",
    "\n",
    "cat_params={\n",
    "    'learning_rate': 0.17447854966066342,\n",
    "    'objective': 'RMSE',\n",
    "    'colsample_bylevel': 0.09999300796304286,\n",
    "    'depth': 12,\n",
    "    'boosting_type': 'Plain',\n",
    "    'bootstrap_type': 'Bernoulli',\n",
    "    'subsample': 0.9709524520446949\n",
    "}"
   ]
  },
  {
   "cell_type": "code",
   "execution_count": 19,
   "metadata": {},
   "outputs": [
    {
     "name": "stdout",
     "output_type": "stream",
     "text": [
      "Finished Training xgboost.\n",
      "Finished Training rfr.\n",
      "Finished Training etr.\n",
      "Finished Training cat.\n"
     ]
    }
   ],
   "source": [
    "tuned_models = {\n",
    "    \"xgboost\":XGBRegressor(**xgb_params),\n",
    "    \"rfr\":RandomForestRegressor(),\n",
    "    \"etr\":ExtraTreesRegressor(),\n",
    "    \"cat\":CatBoostRegressor(**cat_params, verbose=False),\n",
    "}\n",
    "\n",
    "\n",
    "for model_name, model in tuned_models.items():\n",
    "    model.fit(X_train_1, Y_train_1)\n",
    "    print(f\"Finished Training {model_name}.\")\n"
   ]
  },
  {
   "cell_type": "code",
   "execution_count": 20,
   "metadata": {},
   "outputs": [
    {
     "name": "stdout",
     "output_type": "stream",
     "text": [
      "Finished submitting\n"
     ]
    }
   ],
   "source": [
    "final_predictions_sum= (\n",
    "    4/10*np.exp(tuned_models[\"xgboost\"].predict(X_test_1)) +\n",
    "    1/10*np.exp(tuned_models[\"rfr\"].predict(X_test_1)) +\n",
    "    1/10*np.exp(tuned_models[\"etr\"].predict(X_test_1)) + \n",
    "    4/10*np.exp(tuned_models[\"cat\"].predict(X_test_1)) \n",
    "    )\n",
    "\n",
    "final_predictions=pd.Series(final_predictions_sum,name=\"price\")\n",
    "final_predictions.head()\n",
    "final_submission = pd.concat([X_test_ids, final_predictions], axis=1)\n",
    "final_submission.to_csv(\"data/final_submission_46.csv\", index=False, header=True)\n",
    "print(\"Finished submitting\")"
   ]
  }
 ],
 "metadata": {
  "kernelspec": {
   "display_name": "Python 3 (ipykernel)",
   "language": "python",
   "name": "python3"
  },
  "language_info": {
   "codemirror_mode": {
    "name": "ipython",
    "version": 3
   },
   "file_extension": ".py",
   "mimetype": "text/x-python",
   "name": "python",
   "nbconvert_exporter": "python",
   "pygments_lexer": "ipython3",
   "version": "3.8.13"
  },
  "vscode": {
   "interpreter": {
    "hash": "916dbcbb3f70747c44a77c7bcd40155683ae19c65e1c03b4aa3499c5328201f1"
   }
  }
 },
 "nbformat": 4,
 "nbformat_minor": 2
}
