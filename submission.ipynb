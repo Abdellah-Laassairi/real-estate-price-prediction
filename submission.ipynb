{
 "cells": [
  {
   "cell_type": "code",
   "execution_count": 2,
   "metadata": {},
   "outputs": [
    {
     "name": "stdout",
     "output_type": "stream",
     "text": [
      "Collecting category_encoders\n",
      "  Downloading category_encoders-2.5.1.post0-py2.py3-none-any.whl (72 kB)\n",
      "\u001b[2K     \u001b[90m━━━━━━━━━━━━━━━━━━━━━━━━━━━━━━━━━━━━━━━━\u001b[0m \u001b[32m72.4/72.4 kB\u001b[0m \u001b[31m2.3 MB/s\u001b[0m eta \u001b[36m0:00:00\u001b[0m\n",
      "\u001b[?25hRequirement already satisfied: scipy>=1.0.0 in /home/odeck/miniconda3/envs/data-challenge/lib/python3.8/site-packages (from category_encoders) (1.8.1)\n",
      "Requirement already satisfied: numpy>=1.14.0 in /home/odeck/miniconda3/envs/data-challenge/lib/python3.8/site-packages (from category_encoders) (1.23.5)\n",
      "Requirement already satisfied: statsmodels>=0.9.0 in /home/odeck/miniconda3/envs/data-challenge/lib/python3.8/site-packages (from category_encoders) (0.13.5)\n",
      "Requirement already satisfied: scikit-learn>=0.20.0 in /home/odeck/miniconda3/envs/data-challenge/lib/python3.8/site-packages (from category_encoders) (0.23.2)\n",
      "Requirement already satisfied: patsy>=0.5.1 in /home/odeck/miniconda3/envs/data-challenge/lib/python3.8/site-packages (from category_encoders) (0.5.3)\n",
      "Requirement already satisfied: pandas>=1.0.5 in /home/odeck/miniconda3/envs/data-challenge/lib/python3.8/site-packages (from category_encoders) (1.5.2)\n",
      "Requirement already satisfied: python-dateutil>=2.8.1 in /home/odeck/miniconda3/envs/data-challenge/lib/python3.8/site-packages (from pandas>=1.0.5->category_encoders) (2.8.2)\n",
      "Requirement already satisfied: pytz>=2020.1 in /home/odeck/miniconda3/envs/data-challenge/lib/python3.8/site-packages (from pandas>=1.0.5->category_encoders) (2022.6)\n",
      "Requirement already satisfied: six in /home/odeck/miniconda3/envs/data-challenge/lib/python3.8/site-packages (from patsy>=0.5.1->category_encoders) (1.16.0)\n",
      "Requirement already satisfied: joblib>=0.11 in /home/odeck/miniconda3/envs/data-challenge/lib/python3.8/site-packages (from scikit-learn>=0.20.0->category_encoders) (1.2.0)\n",
      "Requirement already satisfied: threadpoolctl>=2.0.0 in /home/odeck/miniconda3/envs/data-challenge/lib/python3.8/site-packages (from scikit-learn>=0.20.0->category_encoders) (3.1.0)\n",
      "Requirement already satisfied: packaging>=21.3 in /home/odeck/miniconda3/envs/data-challenge/lib/python3.8/site-packages (from statsmodels>=0.9.0->category_encoders) (21.3)\n",
      "Requirement already satisfied: pyparsing!=3.0.5,>=2.0.2 in /home/odeck/miniconda3/envs/data-challenge/lib/python3.8/site-packages (from packaging>=21.3->statsmodels>=0.9.0->category_encoders) (3.0.9)\n",
      "Installing collected packages: category_encoders\n",
      "Successfully installed category_encoders-2.5.1.post0\n"
     ]
    }
   ],
   "source": [
    "!pip install category_encoders"
   ]
  },
  {
   "cell_type": "code",
   "execution_count": 3,
   "metadata": {},
   "outputs": [],
   "source": [
    "from tools.preprocess import *\n",
    "from sklearn.neighbors import KNeighborsRegressor\n",
    "from sklearn.ensemble import ExtraTreesRegressor, RandomForestRegressor\n",
    "from catboost import CatBoostRegressor\n",
    "from xgboost import XGBRegressor\n",
    "from lightgbm import LGBMRegressor\n"
   ]
  },
  {
   "cell_type": "code",
   "execution_count": 4,
   "metadata": {},
   "outputs": [],
   "source": [
    "X_train_0, Y_train_0, X_test_0, X_test_ids = load_data('data/')"
   ]
  },
  {
   "cell_type": "code",
   "execution_count": 7,
   "metadata": {},
   "outputs": [],
   "source": [
    "preprocessing_parameters = {\n",
    "    'drop_columns':[\"exposition\",\"energy_performance_category\",\"ghg_category\"],\n",
    "    'frequency_encoding':['city'],\n",
    "    'quantil_encoding':[],\n",
    "    'knn_imputation':[\"size\", \"land_size\",\"energy_performance_value\",\"ghg_value\", \"nb_rooms\",\"nb_bathrooms\", \"nb_bedrooms\"],\n",
    "    'feature_engineering':False,\n",
    "    'feature_transformation':False,\n",
    "    'hot_encoding':True,\n",
    "    'target_transformation':True,\n",
    "}"
   ]
  },
  {
   "cell_type": "code",
   "execution_count": 8,
   "metadata": {},
   "outputs": [],
   "source": [
    "X_train_1,Y_train_1, X_test_1 = preprocess(X_train_0, Y_train_0, X_test_0,preprocessing_parameters)"
   ]
  },
  {
   "cell_type": "code",
   "execution_count": 9,
   "metadata": {},
   "outputs": [],
   "source": [
    "xgb_params={'tree_method': 'auto',\n",
    " 'learning_rate': 0.22502761577232197,\n",
    " 'max_depth': 7,\n",
    " 'min_child_weight': 2.8420515790248526,\n",
    " 'subsample': 0.975,\n",
    " 'colsample_bytree': 0.75,\n",
    " 'colsample_bylevel': 0.925,\n",
    " 'gamma': 0.001531824642793309,\n",
    " 'reg_lambda': 0.010527402680638263,\n",
    " 'reg_alpha': 1.2647545029756599e-08}\n",
    "\n",
    "rfr_params={\n",
    "}\n",
    "etr_params={\n",
    "}\n",
    "\n",
    "cat_params={\n",
    "    'learning_rate': 0.17447854966066342,\n",
    "    'objective': 'RMSE',\n",
    "    'colsample_bylevel': 0.09999300796304286,\n",
    "    'depth': 12,\n",
    "    'boosting_type': 'Plain',\n",
    "    'bootstrap_type': 'Bernoulli',\n",
    "    'subsample': 0.9709524520446949\n",
    "}"
   ]
  },
  {
   "cell_type": "code",
   "execution_count": 10,
   "metadata": {},
   "outputs": [
    {
     "name": "stdout",
     "output_type": "stream",
     "text": [
      "Finished Training xgboost.\n",
      "Finished Training rfr.\n",
      "Finished Training etr.\n",
      "Finished Training cat.\n"
     ]
    }
   ],
   "source": [
    "tuned_models = {\n",
    "    \"xgboost\":XGBRegressor(**xgb_params),\n",
    "    \"rfr\":RandomForestRegressor(),\n",
    "    \"etr\":ExtraTreesRegressor(),\n",
    "    \"cat\":CatBoostRegressor(**cat_params, verbose=False),\n",
    "}\n",
    "\n",
    "\n",
    "for model_name, model in tuned_models.items():\n",
    "    model.fit(X_train_1, Y_train_1)\n",
    "    print(f\"Finished Training {model_name}.\")\n"
   ]
  },
  {
   "cell_type": "code",
   "execution_count": 18,
   "metadata": {},
   "outputs": [
    {
     "name": "stdout",
     "output_type": "stream",
     "text": [
      "Finished submitting\n"
     ]
    }
   ],
   "source": [
    "final_predictions_sum= (\n",
    "    8/20*np.exp(tuned_models[\"xgboost\"].predict(X_test_1)) +\n",
    "    #4/20*np.exp(tuned_models[\"rfr\"].predict(X_test_1)) +\n",
    "    4/20*np.exp(tuned_models[\"etr\"].predict(X_test_1)) + \n",
    "    8/20*np.exp(tuned_models[\"cat\"].predict(X_test_1)) \n",
    "    )\n",
    "\n",
    "final_predictions=pd.Series(final_predictions_sum,name=\"price\")\n",
    "final_predictions.head()\n",
    "final_submission = pd.concat([X_test_ids, final_predictions], axis=1)\n",
    "final_submission.to_csv(\"data/final_submission_47.csv\", index=False, header=True)\n",
    "print(\"Finished submitting\")"
   ]
  }
 ],
 "metadata": {
  "kernelspec": {
   "display_name": "Python 3.8.15 ('data-challenge')",
   "language": "python",
   "name": "python3"
  },
  "language_info": {
   "codemirror_mode": {
    "name": "ipython",
    "version": 3
   },
   "file_extension": ".py",
   "mimetype": "text/x-python",
   "name": "python",
   "nbconvert_exporter": "python",
   "pygments_lexer": "ipython3",
   "version": "3.8.15"
  },
  "vscode": {
   "interpreter": {
    "hash": "7cad879572fc86dfe65b3e43b153c561e79ca25c5ffe8434d36e9a73cfcff219"
   }
  }
 },
 "nbformat": 4,
 "nbformat_minor": 2
}
