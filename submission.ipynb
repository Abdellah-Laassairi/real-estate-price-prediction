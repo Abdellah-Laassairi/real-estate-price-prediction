{
 "cells": [
  {
   "cell_type": "code",
   "execution_count": 3,
   "metadata": {},
   "outputs": [],
   "source": [
    "from tools.preprocess import *\n",
    "from sklearn.neighbors import KNeighborsRegressor\n",
    "from sklearn.ensemble import VotingRegressor, RandomForestRegressor, StackingRegressor\n",
    "from catboost import CatBoostRegressor\n",
    "from xgboost import XGBRegressor, plot_importance\n",
    "import xgboost as xgb\n",
    "from lightgbm import LGBMRegressor\n",
    "from sklearn.model_selection import KFold, cross_val_score\n",
    "from dataprep.eda import plot, plot_missing, plot_correlation, create_report \n",
    "from tools.selector import *\n",
    "import shap\n",
    "pd.options.display.max_rows=400\n",
    "pd.options.display.max_columns=400\n",
    "import optuna \n",
    "from optuna.pruners import MedianPruner, PatientPruner\n",
    "from optuna.visualization import plot_optimization_history, plot_param_importances"
   ]
  },
  {
   "cell_type": "code",
   "execution_count": 4,
   "metadata": {},
   "outputs": [],
   "source": [
    "preprocessing_parameters = {\n",
    "    'drop_columns':[\"energy_performance_category\",\"ghg_category\"],\n",
    "    'frequency_encoding':['city'],\n",
    "    'quantile_encoding':[],\n",
    "    'label_encoding':[],\n",
    "    'target_encoding':[],\n",
    "    'constant_imputation_floor':False,\n",
    "    'constant_land_size':False,\n",
    "    'constant_energy_performance_value':True,\n",
    "    'constant_ghg_value':True,\n",
    "    'constant_imputation_bedrooms':False,\n",
    "    'constant_imputation_exposition':False,\n",
    "    'iter_imputation':False,\n",
    "    'mean_imputation':False,\n",
    "    'mini_imputation':False,\n",
    "    'add_polar_coordinates':True,\n",
    "    'add_polar_rotation':True,\n",
    "    'add_geo_pca':True,\n",
    "    'add_geopopulation':False,\n",
    "    'add_geopopulation_2':False,\n",
    "    'add_distance_to_city_center':False, #only True when add_geopopulation is true\n",
    "    'add_geo':True,\n",
    "    'geodata':[\"index\",\"num_train_station\",\"num_night_club\", \"num_gas_station\",\"user_ratings_total\"],#  \n",
    "    'add_classification_quality':True,\n",
    "    'classification_threshold':0,\n",
    "    'images_features':[],\n",
    "    'feature_transformation':False,\n",
    "    'features_interactions':False,\n",
    "    'hot_encoding':True,\n",
    "    'standard_scaling':False,\n",
    "    'robust_scaling':True,\n",
    "    'power_scaling':False,\n",
    "    'target_transformation':True,\n",
    "}\n",
    "\n"
   ]
  },
  {
   "cell_type": "code",
   "execution_count": 5,
   "metadata": {},
   "outputs": [],
   "source": [
    "X_train_0, Y_train_0, X_test_0, X_test_ids = load_data('data/')\n",
    "xgb_params, lgb_params, cat_params=load_hyperparameters()"
   ]
  },
  {
   "cell_type": "code",
   "execution_count": 6,
   "metadata": {
    "scrolled": false
   },
   "outputs": [],
   "source": [
    "X_train_1,Y_train_1, X_test_1 = preprocess(X_train_0, Y_train_0, X_test_0,preprocessing_parameters)"
   ]
  },
  {
   "cell_type": "code",
   "execution_count": 7,
   "metadata": {},
   "outputs": [
    {
     "data": {
      "text/plain": [
       "property_type_terrain             -0.292496\n",
       "property_type_terrain à bâtir     -0.135557\n",
       "property_type_parking             -0.105659\n",
       "image_quality_sum_Bedroom         -0.104044\n",
       "image_quality_count_Bedroom       -0.088309\n",
       "num_night_club                    -0.074100\n",
       "property_type_viager              -0.063466\n",
       "image_quality_mean_Backyard       -0.061076\n",
       "property_type_divers              -0.060409\n",
       "image_quality_mean_Bedroom        -0.056274\n",
       "image_quality_sum_Backyard        -0.052199\n",
       "image_quality_count_Backyard      -0.037178\n",
       "ghg_value                         -0.033964\n",
       "num_train_station                 -0.021388\n",
       "exposition_Nord-Ouest             -0.019726\n",
       "image_quality_mean_Bathroom       -0.017071\n",
       "energy_performance_value          -0.012092\n",
       "property_type_chambre             -0.011059\n",
       "image_quality_mean_Frontyard      -0.006045\n",
       "upper_floors                      -0.004130\n",
       "property_type_ferme               -0.001397\n",
       "property_type_maison              -0.001264\n",
       "exposition_Nord                   -0.000027\n",
       "image_quality_count_Kitchen        0.001104\n",
       "image_quality_mean_LivingRoom      0.002362\n",
       "image_quality_sum_Bathroom         0.002492\n",
       "property_type_chalet               0.002726\n",
       "property_type_péniche              0.003347\n",
       "property_type_hôtel                0.004316\n",
       "image_quality_sum_Kitchen          0.005584\n",
       "property_type_gîte                 0.006035\n",
       "image_quality_count_Bathroom       0.008848\n",
       "image_quality_sum_Frontyard        0.012616\n",
       "exposition_Nord-Sud                0.013210\n",
       "exposition_Est                     0.013460\n",
       "image_quality_count_Frontyard      0.014604\n",
       "image_quality_mean_Kitchen         0.015234\n",
       "exposition_Ouest                   0.015457\n",
       "property_type_atelier              0.015708\n",
       "property_type_moulin               0.015860\n",
       "property_type_hôtel particulier    0.016022\n",
       "exposition_Sud-Nord                0.016967\n",
       "property_type_loft                 0.019508\n",
       "property_type_duplex               0.021546\n",
       "exposition_Ouest-Est               0.021833\n",
       "exposition_Nord-Est                0.022249\n",
       "property_type_manoir               0.023224\n",
       "size                               0.025279\n",
       "exposition_Est-Ouest               0.031463\n",
       "approximate_latitude               0.034518\n",
       "property_type_château              0.036936\n",
       "exposition_Sud-Est                 0.042143\n",
       "radius                             0.042728\n",
       "land_size                          0.048920\n",
       "last_floor                         0.049164\n",
       "geo_pca_x                          0.055253\n",
       "has_a_garage                       0.060769\n",
       "exposition_Sud                     0.068039\n",
       "has_air_conditioning               0.069276\n",
       "num_gas_station                    0.069435\n",
       "exposition_Sud-Ouest               0.074068\n",
       "image_quality_count_LivingRoom     0.076229\n",
       "image_quality_sum_LivingRoom       0.079711\n",
       "nb_boxes                           0.080740\n",
       "rot_30_x                           0.095062\n",
       "approximate_longitude              0.097298\n",
       "has_a_balcony                      0.097638\n",
       "property_type_villa                0.097648\n",
       "angle                              0.098110\n",
       "property_type_propriété            0.100034\n",
       "floor                              0.102415\n",
       "geo_pca_y                          0.103960\n",
       "rot_45_y                           0.113363\n",
       "rot_45_x                           0.113363\n",
       "rot_30_y                           0.117459\n",
       "has_a_cellar                       0.127679\n",
       "property_type_appartement          0.133012\n",
       "nb_parking_places                  0.133528\n",
       "postal_code                        0.146281\n",
       "user_ratings_total                 0.166342\n",
       "city                               0.200943\n",
       "nb_terraces                        0.213083\n",
       "nb_photos                          0.233767\n",
       "nb_bedrooms                        0.340635\n",
       "nb_rooms                           0.352336\n",
       "nb_bathrooms                       0.422107\n",
       "dtype: float64"
      ]
     },
     "execution_count": 7,
     "metadata": {},
     "output_type": "execute_result"
    }
   ],
   "source": [
    "X_train_1.corrwith(Y_train_1).sort_values()"
   ]
  },
  {
   "cell_type": "code",
   "execution_count": 8,
   "metadata": {},
   "outputs": [
    {
     "name": "stdout",
     "output_type": "stream",
     "text": [
      "[LightGBM] [Warning] lambda_l1 is set=3.035082410337794e-05, reg_alpha=0.0 will be ignored. Current value: lambda_l1=3.035082410337794e-05\n",
      "[LightGBM] [Warning] feature_fraction is set=0.7532144343509061, colsample_bytree=1.0 will be ignored. Current value: feature_fraction=0.7532144343509061\n",
      "[LightGBM] [Warning] bagging_freq is set=3, subsample_freq=0 will be ignored. Current value: bagging_freq=3\n",
      "[LightGBM] [Warning] lambda_l2 is set=2.7222837773047282e-08, reg_lambda=0.0 will be ignored. Current value: lambda_l2=2.7222837773047282e-08\n",
      "[LightGBM] [Warning] bagging_fraction is set=0.9735502443957263, subsample=1.0 will be ignored. Current value: bagging_fraction=0.9735502443957263\n",
      "[LightGBM] [Warning] lambda_l1 is set=3.035082410337794e-05, reg_alpha=0.0 will be ignored. Current value: lambda_l1=3.035082410337794e-05\n",
      "[LightGBM] [Warning] feature_fraction is set=0.7532144343509061, colsample_bytree=1.0 will be ignored. Current value: feature_fraction=0.7532144343509061\n",
      "[LightGBM] [Warning] bagging_freq is set=3, subsample_freq=0 will be ignored. Current value: bagging_freq=3\n",
      "[LightGBM] [Warning] lambda_l2 is set=2.7222837773047282e-08, reg_lambda=0.0 will be ignored. Current value: lambda_l2=2.7222837773047282e-08\n",
      "[LightGBM] [Warning] bagging_fraction is set=0.9735502443957263, subsample=1.0 will be ignored. Current value: bagging_fraction=0.9735502443957263\n",
      "[LightGBM] [Warning] lambda_l1 is set=3.035082410337794e-05, reg_alpha=0.0 will be ignored. Current value: lambda_l1=3.035082410337794e-05\n",
      "[LightGBM] [Warning] feature_fraction is set=0.7532144343509061, colsample_bytree=1.0 will be ignored. Current value: feature_fraction=0.7532144343509061\n",
      "[LightGBM] [Warning] bagging_freq is set=3, subsample_freq=0 will be ignored. Current value: bagging_freq=3\n",
      "[LightGBM] [Warning] lambda_l2 is set=2.7222837773047282e-08, reg_lambda=0.0 will be ignored. Current value: lambda_l2=2.7222837773047282e-08\n",
      "[LightGBM] [Warning] bagging_fraction is set=0.9735502443957263, subsample=1.0 will be ignored. Current value: bagging_fraction=0.9735502443957263\n",
      "[LightGBM] [Warning] lambda_l1 is set=3.035082410337794e-05, reg_alpha=0.0 will be ignored. Current value: lambda_l1=3.035082410337794e-05\n",
      "[LightGBM] [Warning] feature_fraction is set=0.7532144343509061, colsample_bytree=1.0 will be ignored. Current value: feature_fraction=0.7532144343509061\n",
      "[LightGBM] [Warning] bagging_freq is set=3, subsample_freq=0 will be ignored. Current value: bagging_freq=3\n",
      "[LightGBM] [Warning] lambda_l2 is set=2.7222837773047282e-08, reg_lambda=0.0 will be ignored. Current value: lambda_l2=2.7222837773047282e-08\n",
      "[LightGBM] [Warning] bagging_fraction is set=0.9735502443957263, subsample=1.0 will be ignored. Current value: bagging_fraction=0.9735502443957263\n",
      "[LightGBM] [Warning] lambda_l1 is set=3.035082410337794e-05, reg_alpha=0.0 will be ignored. Current value: lambda_l1=3.035082410337794e-05\n",
      "[LightGBM] [Warning] feature_fraction is set=0.7532144343509061, colsample_bytree=1.0 will be ignored. Current value: feature_fraction=0.7532144343509061\n",
      "[LightGBM] [Warning] bagging_freq is set=3, subsample_freq=0 will be ignored. Current value: bagging_freq=3\n",
      "[LightGBM] [Warning] lambda_l2 is set=2.7222837773047282e-08, reg_lambda=0.0 will be ignored. Current value: lambda_l2=2.7222837773047282e-08\n",
      "[LightGBM] [Warning] bagging_fraction is set=0.9735502443957263, subsample=1.0 will be ignored. Current value: bagging_fraction=0.9735502443957263\n",
      "[LightGBM] [Warning] lambda_l1 is set=3.035082410337794e-05, reg_alpha=0.0 will be ignored. Current value: lambda_l1=3.035082410337794e-05\n",
      "[LightGBM] [Warning] feature_fraction is set=0.7532144343509061, colsample_bytree=1.0 will be ignored. Current value: feature_fraction=0.7532144343509061\n",
      "[LightGBM] [Warning] bagging_freq is set=3, subsample_freq=0 will be ignored. Current value: bagging_freq=3\n",
      "[LightGBM] [Warning] lambda_l2 is set=2.7222837773047282e-08, reg_lambda=0.0 will be ignored. Current value: lambda_l2=2.7222837773047282e-08\n",
      "[LightGBM] [Warning] bagging_fraction is set=0.9735502443957263, subsample=1.0 will be ignored. Current value: bagging_fraction=0.9735502443957263\n",
      "[LightGBM] [Warning] lambda_l1 is set=3.035082410337794e-05, reg_alpha=0.0 will be ignored. Current value: lambda_l1=3.035082410337794e-05\n",
      "[LightGBM] [Warning] feature_fraction is set=0.7532144343509061, colsample_bytree=1.0 will be ignored. Current value: feature_fraction=0.7532144343509061\n",
      "[LightGBM] [Warning] bagging_freq is set=3, subsample_freq=0 will be ignored. Current value: bagging_freq=3\n",
      "[LightGBM] [Warning] lambda_l2 is set=2.7222837773047282e-08, reg_lambda=0.0 will be ignored. Current value: lambda_l2=2.7222837773047282e-08\n",
      "[LightGBM] [Warning] bagging_fraction is set=0.9735502443957263, subsample=1.0 will be ignored. Current value: bagging_fraction=0.9735502443957263\n",
      "[LightGBM] [Warning] lambda_l1 is set=3.035082410337794e-05, reg_alpha=0.0 will be ignored. Current value: lambda_l1=3.035082410337794e-05\n",
      "[LightGBM] [Warning] feature_fraction is set=0.7532144343509061, colsample_bytree=1.0 will be ignored. Current value: feature_fraction=0.7532144343509061\n",
      "[LightGBM] [Warning] bagging_freq is set=3, subsample_freq=0 will be ignored. Current value: bagging_freq=3\n",
      "[LightGBM] [Warning] lambda_l2 is set=2.7222837773047282e-08, reg_lambda=0.0 will be ignored. Current value: lambda_l2=2.7222837773047282e-08\n",
      "[LightGBM] [Warning] bagging_fraction is set=0.9735502443957263, subsample=1.0 will be ignored. Current value: bagging_fraction=0.9735502443957263\n",
      "[LightGBM] [Warning] lambda_l1 is set=3.035082410337794e-05, reg_alpha=0.0 will be ignored. Current value: lambda_l1=3.035082410337794e-05\n",
      "[LightGBM] [Warning] feature_fraction is set=0.7532144343509061, colsample_bytree=1.0 will be ignored. Current value: feature_fraction=0.7532144343509061\n",
      "[LightGBM] [Warning] bagging_freq is set=3, subsample_freq=0 will be ignored. Current value: bagging_freq=3\n",
      "[LightGBM] [Warning] lambda_l2 is set=2.7222837773047282e-08, reg_lambda=0.0 will be ignored. Current value: lambda_l2=2.7222837773047282e-08\n",
      "[LightGBM] [Warning] bagging_fraction is set=0.9735502443957263, subsample=1.0 will be ignored. Current value: bagging_fraction=0.9735502443957263\n",
      "[LightGBM] [Warning] lambda_l1 is set=3.035082410337794e-05, reg_alpha=0.0 will be ignored. Current value: lambda_l1=3.035082410337794e-05\n",
      "[LightGBM] [Warning] feature_fraction is set=0.7532144343509061, colsample_bytree=1.0 will be ignored. Current value: feature_fraction=0.7532144343509061\n",
      "[LightGBM] [Warning] bagging_freq is set=3, subsample_freq=0 will be ignored. Current value: bagging_freq=3\n",
      "[LightGBM] [Warning] lambda_l2 is set=2.7222837773047282e-08, reg_lambda=0.0 will be ignored. Current value: lambda_l2=2.7222837773047282e-08\n",
      "[LightGBM] [Warning] bagging_fraction is set=0.9735502443957263, subsample=1.0 will be ignored. Current value: bagging_fraction=0.9735502443957263\n"
     ]
    },
    {
     "data": {
      "text/plain": [
       "0.25045640208470465"
      ]
     },
     "execution_count": 8,
     "metadata": {},
     "output_type": "execute_result"
    }
   ],
   "source": [
    "# LGB Optimized\n",
    "\n",
    "\"\"\"\n",
    "0.24475231717752646 Default (No imputation)\n",
    "0.24499656814827206 Exposition\n",
    "0.24540434465290145 Floor\n",
    "\n",
    "\"\"\"\n",
    "baseline_model=LGBMRegressor(**lgb_params)\n",
    "baseline_model.fit(X_train_1, Y_train_1)\n",
    "kf = KFold(n_splits=10)\n",
    "baseline_result = cross_val_score(baseline_model, X_train_1, Y_train_1, scoring=\"neg_mean_absolute_error\", cv=kf)\n",
    "mean_baseline_result = -np.mean(baseline_result)\n",
    "mean_baseline_result"
   ]
  },
  {
   "cell_type": "markdown",
   "metadata": {},
   "source": [
    "## Inference\n"
   ]
  },
  {
   "cell_type": "code",
   "execution_count": 9,
   "metadata": {
    "scrolled": true
   },
   "outputs": [
    {
     "name": "stdout",
     "output_type": "stream",
     "text": [
      "Finished Training xgboost.\n",
      "[LightGBM] [Warning] lambda_l1 is set=3.035082410337794e-05, reg_alpha=0.0 will be ignored. Current value: lambda_l1=3.035082410337794e-05\n",
      "[LightGBM] [Warning] feature_fraction is set=0.7532144343509061, colsample_bytree=1.0 will be ignored. Current value: feature_fraction=0.7532144343509061\n",
      "[LightGBM] [Warning] bagging_freq is set=3, subsample_freq=0 will be ignored. Current value: bagging_freq=3\n",
      "[LightGBM] [Warning] lambda_l2 is set=2.7222837773047282e-08, reg_lambda=0.0 will be ignored. Current value: lambda_l2=2.7222837773047282e-08\n",
      "[LightGBM] [Warning] bagging_fraction is set=0.9735502443957263, subsample=1.0 will be ignored. Current value: bagging_fraction=0.9735502443957263\n",
      "Finished Training lgb.\n",
      "Finished Training cat.\n"
     ]
    }
   ],
   "source": [
    "tuned_models = {\n",
    "    \"xgboost\":XGBRegressor(**xgb_params),\n",
    "    \"lgb\":LGBMRegressor(**lgb_params),\n",
    "    \"cat\":CatBoostRegressor(**cat_params, verbose=False),\n",
    "}\n",
    "\n",
    "for model_name, model in tuned_models.items():\n",
    "    model.fit(X_train_1, Y_train_1)\n",
    "    print(f\"Finished Training {model_name}.\")\n"
   ]
  },
  {
   "cell_type": "code",
   "execution_count": 10,
   "metadata": {},
   "outputs": [
    {
     "name": "stdout",
     "output_type": "stream",
     "text": [
      "Finished submitting\n"
     ]
    }
   ],
   "source": [
    "weights = [4/40,14/40,20/40]\n",
    "\n",
    "final_predictions_sum= (\n",
    "    weights[0]*np.exp(tuned_models[\"xgboost\"].predict(X_test_1)) +\n",
    "    weights[1]*np.exp(tuned_models[\"lgb\"].predict(X_test_1)) + \n",
    "    weights[2]*np.exp(tuned_models[\"cat\"].predict(X_test_1)) \n",
    "    )\n",
    "\n",
    "final_predictions=pd.Series(final_predictions_sum,name=\"price\")\n",
    "final_predictions.head()\n",
    "final_submission = pd.concat([X_test_ids, final_predictions], axis=1)\n",
    "final_submission.to_csv(\"data/final_submission_145.csv\", index=False, header=True)\n",
    "print(\"Finished submitting\")\n"
   ]
  }
 ],
 "metadata": {
  "kernelspec": {
   "display_name": "Python 3 (ipykernel)",
   "language": "python",
   "name": "python3"
  },
  "language_info": {
   "codemirror_mode": {
    "name": "ipython",
    "version": 3
   },
   "file_extension": ".py",
   "mimetype": "text/x-python",
   "name": "python",
   "nbconvert_exporter": "python",
   "pygments_lexer": "ipython3",
   "version": "3.8.15"
  },
  "vscode": {
   "interpreter": {
    "hash": "7cad879572fc86dfe65b3e43b153c561e79ca25c5ffe8434d36e9a73cfcff219"
   }
  }
 },
 "nbformat": 4,
 "nbformat_minor": 2
}
