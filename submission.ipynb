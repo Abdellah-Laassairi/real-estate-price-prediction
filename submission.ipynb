{
 "cells": [
  {
   "cell_type": "code",
   "execution_count": 14,
   "metadata": {},
   "outputs": [],
   "source": [
    "from tools.preprocess import *\n",
    "from sklearn.neighbors import KNeighborsRegressor\n",
    "from sklearn.ensemble import ExtraTreesRegressor, RandomForestRegressor\n",
    "from catboost import CatBoostRegressor\n",
    "from xgboost import XGBRegressor\n",
    "from lightgbm import LGBMRegressor\n",
    "from sklearn.model_selection import KFold, cross_val_score\n",
    "\n",
    "\n",
    "pd.options.display.max_rows=140\n",
    "pd.options.display.max_columns=140"
   ]
  },
  {
   "cell_type": "code",
   "execution_count": 15,
   "metadata": {},
   "outputs": [],
   "source": [
    "X_train_0, Y_train_0, X_test_0, X_test_ids = load_data('data/', False)"
   ]
  },
  {
   "cell_type": "code",
   "execution_count": 16,
   "metadata": {},
   "outputs": [],
   "source": [
    "preprocessing_parameters = {\n",
    "    'drop_columns':[\"exposition\",\"energy_performance_category\",\"ghg_category\"],\n",
    "    'frequency_encoding':['city'],\n",
    "    'quantile_encoding':[],\n",
    "    'knn_imputation':[\"size\", \"land_size\",\"energy_performance_value\",\"ghg_value\", \"nb_rooms\",\"nb_bathrooms\", \"nb_bedrooms\"],\n",
    "    'feature_engineering':False,\n",
    "    'add_geo':True,\n",
    "    'feature_transformation':False,\n",
    "    'hot_encoding':True,\n",
    "    'target_transformation':True,\n",
    "}"
   ]
  },
  {
   "cell_type": "code",
   "execution_count": 17,
   "metadata": {},
   "outputs": [],
   "source": [
    "X_train_1,Y_train_1, X_test_1 = preprocess(X_train_0, Y_train_0, X_test_0,preprocessing_parameters)"
   ]
  },
  {
   "cell_type": "code",
   "execution_count": 7,
   "metadata": {},
   "outputs": [
    {
     "data": {
      "text/plain": [
       "0.28905175802891553"
      ]
     },
     "execution_count": 7,
     "metadata": {},
     "output_type": "execute_result"
    }
   ],
   "source": [
    "#baseline model\n",
    "baseline_model=XGBRegressor()\n",
    "baseline_model.fit(X_train_1, Y_train_1)\n",
    "kf = KFold(n_splits=10)\n",
    "baseline_result = cross_val_score(baseline_model, X_train_1, Y_train_1, scoring=\"neg_mean_absolute_error\", cv=kf)\n",
    "mean_baseline_result = -np.mean(baseline_result)\n",
    "mean_baseline_result"
   ]
  },
  {
   "cell_type": "code",
   "execution_count": 18,
   "metadata": {},
   "outputs": [],
   "source": [
    "xgb_params={'tree_method': 'auto',\n",
    " 'learning_rate': 0.22502761577232197,\n",
    " 'max_depth': 7,\n",
    " 'min_child_weight': 2.8420515790248526,\n",
    " 'subsample': 0.975,\n",
    " 'colsample_bytree': 0.75,\n",
    " 'colsample_bylevel': 0.925,\n",
    " 'gamma': 0.001531824642793309,\n",
    " 'reg_lambda': 0.010527402680638263,\n",
    " 'reg_alpha': 1.2647545029756599e-08}\n",
    "\n",
    "etr_params={\n",
    "}\n",
    "\n",
    "cat_params={\n",
    "    'learning_rate': 0.17447854966066342,\n",
    "    'objective': 'RMSE',\n",
    "    'colsample_bylevel': 0.09999300796304286,\n",
    "    'depth': 12,\n",
    "    'boosting_type': 'Plain',\n",
    "    'bootstrap_type': 'Bernoulli',\n",
    "    'subsample': 0.9709524520446949\n",
    "}"
   ]
  },
  {
   "cell_type": "code",
   "execution_count": 19,
   "metadata": {},
   "outputs": [
    {
     "name": "stdout",
     "output_type": "stream",
     "text": [
      "Finished Training xgboost.\n",
      "Finished Training etr.\n",
      "Finished Training cat.\n"
     ]
    }
   ],
   "source": [
    "tuned_models = {\n",
    "    \"xgboost\":XGBRegressor(**xgb_params),\n",
    "    #\"rfr\":RandomForestRegressor(),\n",
    "    \"etr\":ExtraTreesRegressor(),\n",
    "    \"cat\":CatBoostRegressor(**cat_params, verbose=False),\n",
    "}\n",
    "\n",
    "\n",
    "for model_name, model in tuned_models.items():\n",
    "    model.fit(X_train_1, Y_train_1)\n",
    "    print(f\"Finished Training {model_name}.\")\n"
   ]
  },
  {
   "cell_type": "code",
   "execution_count": 24,
   "metadata": {},
   "outputs": [
    {
     "name": "stdout",
     "output_type": "stream",
     "text": [
      "Finished submitting\n"
     ]
    }
   ],
   "source": [
    "final_predictions_sum= (\n",
    "    7/20*np.exp(tuned_models[\"xgboost\"].predict(X_test_1)) +\n",
    "    4/20*np.exp(tuned_models[\"etr\"].predict(X_test_1)) + \n",
    "    9/20*np.exp(tuned_models[\"cat\"].predict(X_test_1)) \n",
    "    )\n",
    "\n",
    "final_predictions=pd.Series(final_predictions_sum,name=\"price\")\n",
    "final_predictions.head()\n",
    "final_submission = pd.concat([X_test_ids, final_predictions], axis=1)\n",
    "final_submission.to_csv(\"data/final_submission_52.csv\", index=False, header=True)\n",
    "print(\"Finished submitting\")"
   ]
  }
 ],
 "metadata": {
  "kernelspec": {
   "display_name": "Python 3 (ipykernel)",
   "language": "python",
   "name": "python3"
  },
  "language_info": {
   "codemirror_mode": {
    "name": "ipython",
    "version": 3
   },
   "file_extension": ".py",
   "mimetype": "text/x-python",
   "name": "python",
   "nbconvert_exporter": "python",
   "pygments_lexer": "ipython3",
   "version": "3.8.15"
  },
  "vscode": {
   "interpreter": {
    "hash": "7cad879572fc86dfe65b3e43b153c561e79ca25c5ffe8434d36e9a73cfcff219"
   }
  }
 },
 "nbformat": 4,
 "nbformat_minor": 2
}
